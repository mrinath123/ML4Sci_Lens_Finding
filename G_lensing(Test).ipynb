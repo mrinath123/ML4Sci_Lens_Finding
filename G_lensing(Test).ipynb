{
 "cells": [
  {
   "cell_type": "code",
   "execution_count": 1,
   "id": "2d278d4b",
   "metadata": {
    "execution": {
     "iopub.execute_input": "2022-04-07T06:45:14.189678Z",
     "iopub.status.busy": "2022-04-07T06:45:14.188794Z",
     "iopub.status.idle": "2022-04-07T06:45:41.909084Z",
     "shell.execute_reply": "2022-04-07T06:45:41.908513Z",
     "shell.execute_reply.started": "2022-04-07T06:09:26.990936Z"
    },
    "papermill": {
     "duration": 27.75711,
     "end_time": "2022-04-07T06:45:41.909260",
     "exception": false,
     "start_time": "2022-04-07T06:45:14.152150",
     "status": "completed"
    },
    "tags": []
   },
   "outputs": [
    {
     "name": "stdout",
     "output_type": "stream",
     "text": [
      "\u001b[33mWARNING: Running pip as the 'root' user can result in broken permissions and conflicting behaviour with the system package manager. It is recommended to use a virtual environment instead: https://pip.pypa.io/warnings/venv\u001b[0m\r\n",
      "\u001b[33mWARNING: Running pip as the 'root' user can result in broken permissions and conflicting behaviour with the system package manager. It is recommended to use a virtual environment instead: https://pip.pypa.io/warnings/venv\u001b[0m\r\n",
      "\u001b[33mWARNING: Running pip as the 'root' user can result in broken permissions and conflicting behaviour with the system package manager. It is recommended to use a virtual environment instead: https://pip.pypa.io/warnings/venv\u001b[0m\r\n"
     ]
    }
   ],
   "source": [
    "!pip install -q timm #for pretrained models\n",
    "!pip install -q albumentations==0.4.6 #for image augmentations\n",
    "!pip -q install astropy # for working with .fits data"
   ]
  },
  {
   "cell_type": "code",
   "execution_count": 2,
   "id": "54ab8221",
   "metadata": {
    "execution": {
     "iopub.execute_input": "2022-04-07T06:45:41.962331Z",
     "iopub.status.busy": "2022-04-07T06:45:41.961557Z",
     "iopub.status.idle": "2022-04-07T06:45:47.588501Z",
     "shell.execute_reply": "2022-04-07T06:45:47.589492Z",
     "shell.execute_reply.started": "2022-04-07T06:09:55.234643Z"
    },
    "papermill": {
     "duration": 5.657703,
     "end_time": "2022-04-07T06:45:47.589698",
     "exception": false,
     "start_time": "2022-04-07T06:45:41.931995",
     "status": "completed"
    },
    "tags": []
   },
   "outputs": [
    {
     "name": "stdout",
     "output_type": "stream",
     "text": [
      "cuda\n"
     ]
    }
   ],
   "source": [
    "import astropy\n",
    "from astropy.io import fits\n",
    "import tarfile\n",
    "import pandas as pd\n",
    "import numpy as np\n",
    "import matplotlib.pyplot as plt\n",
    "import seaborn as sns\n",
    "import os\n",
    "from sklearn import model_selection\n",
    "\n",
    "import timm\n",
    "import numpy as np\n",
    "import pandas as pd\n",
    "import matplotlib.pyplot as plt\n",
    "import seaborn as sns\n",
    "import sklearn\n",
    "import os\n",
    "from tqdm.notebook import tqdm\n",
    "import matplotlib.pyplot as plt\n",
    "import glob\n",
    "import sklearn\n",
    "import math\n",
    "import random\n",
    "\n",
    "import cv2\n",
    "import albumentations as A\n",
    "from albumentations.pytorch import ToTensorV2\n",
    "\n",
    "import torch\n",
    "import torch.nn as nn\n",
    "import torch.nn.functional as F\n",
    "from torch.utils.data import Dataset,DataLoader\n",
    "from sklearn.metrics import roc_curve, auc\n",
    "import warnings\n",
    "warnings.filterwarnings('ignore')\n",
    "np.seterr(divide='ignore', invalid='ignore')\n",
    "\n",
    "device = torch.device('cuda' if torch.cuda.is_available() else 'cpu')\n",
    "#make sure device is \"cuda\"\n",
    "print(device)"
   ]
  },
  {
   "cell_type": "code",
   "execution_count": 3,
   "id": "7a5b56ab",
   "metadata": {
    "execution": {
     "iopub.execute_input": "2022-04-07T06:45:47.641395Z",
     "iopub.status.busy": "2022-04-07T06:45:47.640702Z",
     "iopub.status.idle": "2022-04-07T06:45:47.646304Z",
     "shell.execute_reply": "2022-04-07T06:45:47.645783Z",
     "shell.execute_reply.started": "2022-04-07T06:10:01.141474Z"
    },
    "papermill": {
     "duration": 0.033965,
     "end_time": "2022-04-07T06:45:47.646427",
     "exception": false,
     "start_time": "2022-04-07T06:45:47.612462",
     "status": "completed"
    },
    "tags": []
   },
   "outputs": [],
   "source": [
    "def set_seed(seed):\n",
    "    random.seed(seed)\n",
    "    os.environ[\"PYTHONHASHSEED\"] = str(seed)\n",
    "    np.random.seed(seed)\n",
    "    torch.manual_seed(seed)\n",
    "    if torch.cuda.is_available():\n",
    "        torch.cuda.manual_seed_all(seed)\n",
    "        torch.backends.cudnn.deterministic = True\n",
    "\n",
    "set_seed(42)"
   ]
  },
  {
   "cell_type": "markdown",
   "id": "40cf560b",
   "metadata": {
    "papermill": {
     "duration": 0.022708,
     "end_time": "2022-04-07T06:45:47.691648",
     "exception": false,
     "start_time": "2022-04-07T06:45:47.668940",
     "status": "completed"
    },
    "tags": []
   },
   "source": [
    "# Hyperparameters (Kindly change the path of the model's weight according to where you have stored)"
   ]
  },
  {
   "cell_type": "code",
   "execution_count": 4,
   "id": "b532699d",
   "metadata": {
    "execution": {
     "iopub.execute_input": "2022-04-07T06:45:47.742777Z",
     "iopub.status.busy": "2022-04-07T06:45:47.741949Z",
     "iopub.status.idle": "2022-04-07T06:45:47.744596Z",
     "shell.execute_reply": "2022-04-07T06:45:47.744099Z",
     "shell.execute_reply.started": "2022-04-07T06:22:28.504285Z"
    },
    "papermill": {
     "duration": 0.030173,
     "end_time": "2022-04-07T06:45:47.744712",
     "exception": false,
     "start_time": "2022-04-07T06:45:47.714539",
     "status": "completed"
    },
    "tags": []
   },
   "outputs": [],
   "source": [
    "image_size = 100\n",
    "pretrained_model = \"tf_efficientnet_b2_ns\"\n",
    "#path to best model weights of each fold\n",
    "path0 = \"../input/lens-finding/Fold 0 val_auc 0.9676701333804952.pth\"\n",
    "path1 = \"../input/lens-finding/Fold 1 val_auc 0.9746340010001936.pth\"\n",
    "path2 = \"../input/lens-finding/Fold 2 val_auc 0.9711369566427682.pth\"\n",
    "path3 = \"../input/lens-finding/Fold 3 val_auc 0.9701803249679135.pth\"\n",
    "path4 = \"../input/lens-finding/Fold 4 val_auc 0.9768519061775269.pth\""
   ]
  },
  {
   "cell_type": "code",
   "execution_count": 5,
   "id": "7298bf6b",
   "metadata": {
    "execution": {
     "iopub.execute_input": "2022-04-07T06:45:47.793685Z",
     "iopub.status.busy": "2022-04-07T06:45:47.793068Z",
     "iopub.status.idle": "2022-04-07T06:46:04.577384Z",
     "shell.execute_reply": "2022-04-07T06:46:04.576558Z",
     "shell.execute_reply.started": "2022-04-07T06:22:28.581603Z"
    },
    "papermill": {
     "duration": 16.81027,
     "end_time": "2022-04-07T06:46:04.577534",
     "exception": false,
     "start_time": "2022-04-07T06:45:47.767264",
     "status": "completed"
    },
    "tags": []
   },
   "outputs": [],
   "source": [
    "file = tarfile.open('../input/lens-find/lens_finding.tgz')\n",
    "file.extractall(\"data/\")"
   ]
  },
  {
   "cell_type": "code",
   "execution_count": 6,
   "id": "416b1564",
   "metadata": {
    "execution": {
     "iopub.execute_input": "2022-04-07T06:46:04.625476Z",
     "iopub.status.busy": "2022-04-07T06:46:04.624617Z",
     "iopub.status.idle": "2022-04-07T06:46:04.664507Z",
     "shell.execute_reply": "2022-04-07T06:46:04.663976Z",
     "shell.execute_reply.started": "2022-04-07T06:22:28.646388Z"
    },
    "papermill": {
     "duration": 0.065892,
     "end_time": "2022-04-07T06:46:04.664619",
     "exception": false,
     "start_time": "2022-04-07T06:46:04.598727",
     "status": "completed"
    },
    "tags": []
   },
   "outputs": [],
   "source": [
    "df = pd.read_csv(\"./data/SpaceBasedTraining/classifications.csv\")\n",
    "df.ID = df.ID.astype(str)"
   ]
  },
  {
   "cell_type": "code",
   "execution_count": 7,
   "id": "d7b9415d",
   "metadata": {
    "execution": {
     "iopub.execute_input": "2022-04-07T06:46:04.710058Z",
     "iopub.status.busy": "2022-04-07T06:46:04.709348Z",
     "iopub.status.idle": "2022-04-07T06:46:04.720952Z",
     "shell.execute_reply": "2022-04-07T06:46:04.721363Z",
     "shell.execute_reply.started": "2022-04-07T06:22:28.705275Z"
    },
    "papermill": {
     "duration": 0.035981,
     "end_time": "2022-04-07T06:46:04.721492",
     "exception": false,
     "start_time": "2022-04-07T06:46:04.685511",
     "status": "completed"
    },
    "tags": []
   },
   "outputs": [],
   "source": [
    "images_present = os.listdir(\"./data/SpaceBasedTraining/files\")"
   ]
  },
  {
   "cell_type": "code",
   "execution_count": 8,
   "id": "d44ac01e",
   "metadata": {
    "execution": {
     "iopub.execute_input": "2022-04-07T06:46:04.776034Z",
     "iopub.status.busy": "2022-04-07T06:46:04.775275Z",
     "iopub.status.idle": "2022-04-07T06:46:04.778829Z",
     "shell.execute_reply": "2022-04-07T06:46:04.778432Z",
     "shell.execute_reply.started": "2022-04-07T06:22:28.757031Z"
    },
    "papermill": {
     "duration": 0.036585,
     "end_time": "2022-04-07T06:46:04.778932",
     "exception": false,
     "start_time": "2022-04-07T06:46:04.742347",
     "status": "completed"
    },
    "tags": []
   },
   "outputs": [],
   "source": [
    "all_images = []\n",
    "for i in images_present:\n",
    "    all_images.append(i.split('imageEUC_VIS-')[-1].split('.fits')[0])"
   ]
  },
  {
   "cell_type": "code",
   "execution_count": 9,
   "id": "fd56f10f",
   "metadata": {
    "execution": {
     "iopub.execute_input": "2022-04-07T06:46:04.841474Z",
     "iopub.status.busy": "2022-04-07T06:46:04.840652Z",
     "iopub.status.idle": "2022-04-07T06:46:04.852377Z",
     "shell.execute_reply": "2022-04-07T06:46:04.853078Z",
     "shell.execute_reply.started": "2022-04-07T06:22:28.804706Z"
    },
    "papermill": {
     "duration": 0.052195,
     "end_time": "2022-04-07T06:46:04.853288",
     "exception": false,
     "start_time": "2022-04-07T06:46:04.801093",
     "status": "completed"
    },
    "tags": []
   },
   "outputs": [],
   "source": [
    "#making sure only use the rows of the dataframe if corresponding image is available\n",
    "df = df[df.ID.isin(all_images)].reset_index(drop = True)"
   ]
  },
  {
   "cell_type": "code",
   "execution_count": 10,
   "id": "46d532e1",
   "metadata": {
    "execution": {
     "iopub.execute_input": "2022-04-07T06:46:04.927848Z",
     "iopub.status.busy": "2022-04-07T06:46:04.926149Z",
     "iopub.status.idle": "2022-04-07T06:46:04.928588Z",
     "shell.execute_reply": "2022-04-07T06:46:04.929154Z",
     "shell.execute_reply.started": "2022-04-07T06:22:28.856414Z"
    },
    "papermill": {
     "duration": 0.040129,
     "end_time": "2022-04-07T06:46:04.929315",
     "exception": false,
     "start_time": "2022-04-07T06:46:04.889186",
     "status": "completed"
    },
    "tags": []
   },
   "outputs": [],
   "source": [
    "img_pths = \"./data/SpaceBasedTraining/files/imageEUC_VIS-\"\n",
    "df['path'] = [ f\"{img_pths}{x}.fits\" for x in df[\"ID\"]]"
   ]
  },
  {
   "cell_type": "code",
   "execution_count": 11,
   "id": "0f0cca4a",
   "metadata": {
    "execution": {
     "iopub.execute_input": "2022-04-07T06:46:04.979277Z",
     "iopub.status.busy": "2022-04-07T06:46:04.978686Z",
     "iopub.status.idle": "2022-04-07T06:46:04.995359Z",
     "shell.execute_reply": "2022-04-07T06:46:04.994917Z",
     "shell.execute_reply.started": "2022-04-07T06:22:28.914556Z"
    },
    "papermill": {
     "duration": 0.043953,
     "end_time": "2022-04-07T06:46:04.995479",
     "exception": false,
     "start_time": "2022-04-07T06:46:04.951526",
     "status": "completed"
    },
    "tags": []
   },
   "outputs": [],
   "source": [
    "from sklearn import model_selection\n",
    "y = df.is_lens.values\n",
    "kf = model_selection.StratifiedKFold(n_splits =10, random_state=42 , shuffle=True)\n",
    "\n",
    "for f,(t,v) in enumerate(kf.split(X=df,y=y)):\n",
    "    df.loc[v,'fold'] = f\n",
    "    \n",
    "test = df[df.fold == 0].reset_index(drop = True)"
   ]
  },
  {
   "cell_type": "code",
   "execution_count": 12,
   "id": "8ae14513",
   "metadata": {
    "execution": {
     "iopub.execute_input": "2022-04-07T06:46:05.041967Z",
     "iopub.status.busy": "2022-04-07T06:46:05.041159Z",
     "iopub.status.idle": "2022-04-07T06:46:05.044370Z",
     "shell.execute_reply": "2022-04-07T06:46:05.043874Z",
     "shell.execute_reply.started": "2022-04-07T06:22:28.976719Z"
    },
    "papermill": {
     "duration": 0.027966,
     "end_time": "2022-04-07T06:46:05.044483",
     "exception": false,
     "start_time": "2022-04-07T06:46:05.016517",
     "status": "completed"
    },
    "tags": []
   },
   "outputs": [],
   "source": [
    "test_aug = A.Compose(\n",
    "    [ \n",
    "     A.Resize(image_size,image_size,p=1.0),\n",
    "        ToTensorV2()\n",
    "    ]\n",
    ")"
   ]
  },
  {
   "cell_type": "code",
   "execution_count": 13,
   "id": "f18e5d67",
   "metadata": {
    "execution": {
     "iopub.execute_input": "2022-04-07T06:46:05.097057Z",
     "iopub.status.busy": "2022-04-07T06:46:05.096205Z",
     "iopub.status.idle": "2022-04-07T06:46:05.098865Z",
     "shell.execute_reply": "2022-04-07T06:46:05.098380Z",
     "shell.execute_reply.started": "2022-04-07T06:22:29.026133Z"
    },
    "papermill": {
     "duration": 0.0292,
     "end_time": "2022-04-07T06:46:05.098975",
     "exception": false,
     "start_time": "2022-04-07T06:46:05.069775",
     "status": "completed"
    },
    "tags": []
   },
   "outputs": [],
   "source": [
    "meta_features = [\"Einstein_area\" , \"numb_pix_lensed_image\" , \"flux_lensed_image_in_sigma\"]"
   ]
  },
  {
   "cell_type": "code",
   "execution_count": 14,
   "id": "b65f6db7",
   "metadata": {
    "execution": {
     "iopub.execute_input": "2022-04-07T06:46:05.145403Z",
     "iopub.status.busy": "2022-04-07T06:46:05.144609Z",
     "iopub.status.idle": "2022-04-07T06:46:05.146571Z",
     "shell.execute_reply": "2022-04-07T06:46:05.146972Z",
     "shell.execute_reply.started": "2022-04-07T06:22:29.075961Z"
    },
    "papermill": {
     "duration": 0.027453,
     "end_time": "2022-04-07T06:46:05.147087",
     "exception": false,
     "start_time": "2022-04-07T06:46:05.119634",
     "status": "completed"
    },
    "tags": []
   },
   "outputs": [],
   "source": [
    "def feature_engg(meta_data):\n",
    "    data = meta_data.copy()\n",
    "    data.Einstein_area = data.Einstein_area/(data.Einstein_area.max())\n",
    "    data.numb_pix_lensed_image = data.numb_pix_lensed_image/(data.numb_pix_lensed_image.max())\n",
    "    data.flux_lensed_image_in_sigma = data.flux_lensed_image_in_sigma/(data.flux_lensed_image_in_sigma.max())\n",
    "\n",
    "    return data"
   ]
  },
  {
   "cell_type": "code",
   "execution_count": 15,
   "id": "a465253c",
   "metadata": {
    "execution": {
     "iopub.execute_input": "2022-04-07T06:46:05.205010Z",
     "iopub.status.busy": "2022-04-07T06:46:05.203309Z",
     "iopub.status.idle": "2022-04-07T06:46:05.205685Z",
     "shell.execute_reply": "2022-04-07T06:46:05.206126Z",
     "shell.execute_reply.started": "2022-04-07T06:22:29.136183Z"
    },
    "papermill": {
     "duration": 0.035423,
     "end_time": "2022-04-07T06:46:05.206287",
     "exception": false,
     "start_time": "2022-04-07T06:46:05.170864",
     "status": "completed"
    },
    "tags": []
   },
   "outputs": [],
   "source": [
    "class Lens(Dataset):\n",
    "    def __init__(self,df , augs):\n",
    "        self.df = df\n",
    "        self.augs = augs\n",
    "    def __len__(self):\n",
    "        return(len(self.df))\n",
    "    def __getitem__(self,idx):\n",
    "        img =  fits.open(self.df.path[idx])\n",
    "        image =  img[0].data\n",
    "        image = image/np.max(image)\n",
    "        image = np.expand_dims(image , axis = 2)\n",
    "        transformed = self.augs(image=image)\n",
    "        image = transformed['image']\n",
    "        \n",
    "        meta = torch.tensor(self.df[meta_features].iloc[idx,:].values, dtype=torch.float)\n",
    "    \n",
    "        return image , meta"
   ]
  },
  {
   "cell_type": "code",
   "execution_count": 16,
   "id": "18e1b584",
   "metadata": {
    "execution": {
     "iopub.execute_input": "2022-04-07T06:46:05.263095Z",
     "iopub.status.busy": "2022-04-07T06:46:05.262396Z",
     "iopub.status.idle": "2022-04-07T06:46:05.264770Z",
     "shell.execute_reply": "2022-04-07T06:46:05.265251Z",
     "shell.execute_reply.started": "2022-04-07T06:22:29.248270Z"
    },
    "papermill": {
     "duration": 0.034876,
     "end_time": "2022-04-07T06:46:05.265386",
     "exception": false,
     "start_time": "2022-04-07T06:46:05.230510",
     "status": "completed"
    },
    "tags": []
   },
   "outputs": [],
   "source": [
    "class Model(nn.Module):\n",
    "    def __init__(self,pretrained = False):\n",
    "        super().__init__()\n",
    "        self.backbone = timm.create_model(pretrained_model, pretrained=pretrained, num_classes=0, drop_rate=0.0,global_pool='',in_chans=1)\n",
    "        self.pool = nn.AdaptiveAvgPool2d(1)\n",
    "        self.lin2 = nn.Linear(1408+3,1)\n",
    "        self.do = nn.Dropout(p=0.4)\n",
    "        self.lin1 = nn.Linear(3,3)\n",
    "    \n",
    "    def forward(self,image , feat):\n",
    "        image = self.backbone(image)     \n",
    "        image = self.pool(image)\n",
    "        image = image.view(image.shape[0], -1)\n",
    "        \n",
    "        image = self.do(image)\n",
    "        feat = self.lin1(feat)\n",
    "        x = torch.cat([image , feat ], dim = 1)#concat embeddings\n",
    "        x = self.lin2(x)\n",
    "        return x"
   ]
  },
  {
   "cell_type": "code",
   "execution_count": 17,
   "id": "4a164663",
   "metadata": {
    "execution": {
     "iopub.execute_input": "2022-04-07T06:46:05.319466Z",
     "iopub.status.busy": "2022-04-07T06:46:05.318615Z",
     "iopub.status.idle": "2022-04-07T06:46:05.321226Z",
     "shell.execute_reply": "2022-04-07T06:46:05.320734Z",
     "shell.execute_reply.started": "2022-04-07T06:22:29.339848Z"
    },
    "papermill": {
     "duration": 0.032631,
     "end_time": "2022-04-07T06:46:05.321345",
     "exception": false,
     "start_time": "2022-04-07T06:46:05.288714",
     "status": "completed"
    },
    "tags": []
   },
   "outputs": [],
   "source": [
    "def inference_func(test_loader , path,m):\n",
    "    m = m.to(device)\n",
    "    m.load_state_dict(torch.load(path))\n",
    "    m.eval()\n",
    "    bar = tqdm(test_loader)\n",
    "\n",
    "    PREDS = []\n",
    "    \n",
    "    with torch.no_grad():\n",
    "        for batch_idx, (images,feat) in enumerate(bar):\n",
    "            img = images.to(device)\n",
    "            feat = feat.to(device)\n",
    "            output = m(img,feat)\n",
    "            output = output.sigmoid()\n",
    "            PREDS += [output.detach().cpu()]\n",
    "        PREDS = torch.cat(PREDS).cpu().numpy()  \n",
    "    return PREDS"
   ]
  },
  {
   "cell_type": "code",
   "execution_count": 18,
   "id": "338ab4ee",
   "metadata": {
    "execution": {
     "iopub.execute_input": "2022-04-07T06:46:05.377321Z",
     "iopub.status.busy": "2022-04-07T06:46:05.375713Z",
     "iopub.status.idle": "2022-04-07T06:46:05.377910Z",
     "shell.execute_reply": "2022-04-07T06:46:05.378359Z",
     "shell.execute_reply.started": "2022-04-07T06:22:29.400197Z"
    },
    "papermill": {
     "duration": 0.033374,
     "end_time": "2022-04-07T06:46:05.378486",
     "exception": false,
     "start_time": "2022-04-07T06:46:05.345112",
     "status": "completed"
    },
    "tags": []
   },
   "outputs": [],
   "source": [
    "test_fe = feature_engg(test)\n",
    "test_data= Lens(test_fe.reset_index(drop=True),test_aug)\n",
    "tl = DataLoader(test_data, shuffle=False,\n",
    "                        num_workers=4,\n",
    "                        batch_size=100,drop_last = False)"
   ]
  },
  {
   "cell_type": "code",
   "execution_count": 19,
   "id": "314bc824",
   "metadata": {
    "execution": {
     "iopub.execute_input": "2022-04-07T06:46:05.431636Z",
     "iopub.status.busy": "2022-04-07T06:46:05.431009Z",
     "iopub.status.idle": "2022-04-07T06:46:33.856556Z",
     "shell.execute_reply": "2022-04-07T06:46:33.857763Z",
     "shell.execute_reply.started": "2022-04-07T06:22:29.464761Z"
    },
    "papermill": {
     "duration": 28.456551,
     "end_time": "2022-04-07T06:46:33.858007",
     "exception": false,
     "start_time": "2022-04-07T06:46:05.401456",
     "status": "completed"
    },
    "tags": []
   },
   "outputs": [
    {
     "data": {
      "application/vnd.jupyter.widget-view+json": {
       "model_id": "a32567413ae64f26a1cd03a270b8c82b",
       "version_major": 2,
       "version_minor": 0
      },
      "text/plain": [
       "  0%|          | 0/18 [00:00<?, ?it/s]"
      ]
     },
     "metadata": {},
     "output_type": "display_data"
    },
    {
     "data": {
      "application/vnd.jupyter.widget-view+json": {
       "model_id": "ff9fe24752bc4118ab479f3690bf08a6",
       "version_major": 2,
       "version_minor": 0
      },
      "text/plain": [
       "  0%|          | 0/18 [00:00<?, ?it/s]"
      ]
     },
     "metadata": {},
     "output_type": "display_data"
    },
    {
     "data": {
      "application/vnd.jupyter.widget-view+json": {
       "model_id": "f5ec668f873a437ab865664637ee3fb9",
       "version_major": 2,
       "version_minor": 0
      },
      "text/plain": [
       "  0%|          | 0/18 [00:00<?, ?it/s]"
      ]
     },
     "metadata": {},
     "output_type": "display_data"
    },
    {
     "data": {
      "application/vnd.jupyter.widget-view+json": {
       "model_id": "f03490b922eb41f0bbbeb05ba88c5d7c",
       "version_major": 2,
       "version_minor": 0
      },
      "text/plain": [
       "  0%|          | 0/18 [00:00<?, ?it/s]"
      ]
     },
     "metadata": {},
     "output_type": "display_data"
    },
    {
     "data": {
      "application/vnd.jupyter.widget-view+json": {
       "model_id": "3572bf387c654cea902d132e3d5f471d",
       "version_major": 2,
       "version_minor": 0
      },
      "text/plain": [
       "  0%|          | 0/18 [00:00<?, ?it/s]"
      ]
     },
     "metadata": {},
     "output_type": "display_data"
    }
   ],
   "source": [
    "#getting the predictions from each the best model for each fold\n",
    "y0 = inference_func(tl ,path0 , Model())\n",
    "y1 = inference_func(tl ,path1 , Model())\n",
    "y2 = inference_func(tl ,path2 , Model())\n",
    "y3 = inference_func(tl ,path3 , Model())\n",
    "y4 = inference_func(tl ,path4 , Model())\n",
    "# averaginf all the predictions from each fold\n",
    "y = (y0 + y1 + y2 + y3 + y4)/5."
   ]
  },
  {
   "cell_type": "markdown",
   "id": "c9ae7150",
   "metadata": {
    "papermill": {
     "duration": 0.048727,
     "end_time": "2022-04-07T06:46:33.958277",
     "exception": false,
     "start_time": "2022-04-07T06:46:33.909550",
     "status": "completed"
    },
    "tags": []
   },
   "source": [
    "# Results on Test"
   ]
  },
  {
   "cell_type": "code",
   "execution_count": 20,
   "id": "bcb980e0",
   "metadata": {
    "execution": {
     "iopub.execute_input": "2022-04-07T06:46:34.044855Z",
     "iopub.status.busy": "2022-04-07T06:46:34.044026Z",
     "iopub.status.idle": "2022-04-07T06:46:34.353739Z",
     "shell.execute_reply": "2022-04-07T06:46:34.353055Z",
     "shell.execute_reply.started": "2022-04-07T06:22:50.050193Z"
    },
    "papermill": {
     "duration": 0.358153,
     "end_time": "2022-04-07T06:46:34.353901",
     "exception": false,
     "start_time": "2022-04-07T06:46:33.995748",
     "status": "completed"
    },
    "tags": []
   },
   "outputs": [
    {
     "data": {
      "image/png": "[encoded data removed]",
      "text/plain": [
       "<Figure size 432x288 with 1 Axes>"
      ]
     },
     "metadata": {
      "needs_background": "light"
     },
     "output_type": "display_data"
    }
   ],
   "source": [
    "y_test = test.is_lens.values # ground_truth\n",
    "fpr, tpr, _ = roc_curve(y_test, y)\n",
    "roc_auc = auc(fpr, tpr)\n",
    "plt.plot([0, 1], [0, 1], 'k--')\n",
    "#plt.legend(loc=2, prop={'size': 15})\n",
    "plt.plot(fpr, tpr, label='Model (ROC-AUC = {:.3f})'.format(roc_auc))\n",
    "plt.xlabel('False positive rate')\n",
    "plt.ylabel('True positive rate')\n",
    "plt.title('ROC curve')\n",
    "plt.legend(loc='best')\n",
    "plt.show()"
   ]
  },
  {
   "cell_type": "code",
   "execution_count": 21,
   "id": "3a18265c",
   "metadata": {
    "execution": {
     "iopub.execute_input": "2022-04-07T06:46:34.443888Z",
     "iopub.status.busy": "2022-04-07T06:46:34.443119Z",
     "iopub.status.idle": "2022-04-07T06:46:35.065311Z",
     "shell.execute_reply": "2022-04-07T06:46:35.064726Z",
     "shell.execute_reply.started": "2022-04-07T06:22:50.252081Z"
    },
    "papermill": {
     "duration": 0.669651,
     "end_time": "2022-04-07T06:46:35.065446",
     "exception": false,
     "start_time": "2022-04-07T06:46:34.395795",
     "status": "completed"
    },
    "tags": []
   },
   "outputs": [],
   "source": [
    "import shutil\n",
    "shutil.rmtree(\"data/\")"
   ]
  }
 ],
 "metadata": {
  "kernelspec": {
   "display_name": "Python 3",
   "language": "python",
   "name": "python3"
  },
  "language_info": {
   "codemirror_mode": {
    "name": "ipython",
    "version": 3
   },
   "file_extension": ".py",
   "mimetype": "text/x-python",
   "name": "python",
   "nbconvert_exporter": "python",
   "pygments_lexer": "ipython3",
   "version": "3.7.12"
  },
  "papermill": {
   "default_parameters": {},
   "duration": 91.323208,
   "end_time": "2022-04-07T06:46:37.574441",
   "environment_variables": {},
   "exception": null,
   "input_path": "__notebook__.ipynb",
   "output_path": "__notebook__.ipynb",
   "parameters": {},
   "start_time": "2022-04-07T06:45:06.251233",
   "version": "2.3.3"
  },
  "widgets": {
   "application/vnd.jupyter.widget-state+json": {
    "state": {
     "022bacb101664f4eae94dc709cf5f54a": {
      "model_module": "@jupyter-widgets/controls",
      "model_module_version": "1.5.0",
      "model_name": "HTMLModel",
      "state": {
       "_dom_classes": [],
       "_model_module": "@jupyter-widgets/controls",
       "_model_module_version": "1.5.0",
       "_model_name": "HTMLModel",
       "_view_count": null,
       "_view_module": "@jupyter-widgets/controls",
       "_view_module_version": "1.5.0",
       "_view_name": "HTMLView",
       "description": "",
       "description_tooltip": null,
       "layout": "IPY_MODEL_4d582a102d814a9ba4a5d63df3eeceb9",
       "placeholder": "​",
       "style": "IPY_MODEL_a9488046b90d441a8fe6f65ba7dcbf2c",
       "value": "100%"
      }
     },
     "02ae903c5ae24de1b3c860c3d652cb9d": {
      "model_module": "@jupyter-widgets/controls",
      "model_module_version": "1.5.0",
      "model_name": "ProgressStyleModel",
      "state": {
       "_model_module": "@jupyter-widgets/controls",
       "_model_module_version": "1.5.0",
       "_model_name": "ProgressStyleModel",
       "_view_count": null,
       "_view_module": "@jupyter-widgets/base",
       "_view_module_version": "1.2.0",
       "_view_name": "StyleView",
       "bar_color": null,
       "description_width": ""
      }
     },
     "0724d6dba8a945a088ef6c40466ddd6d": {
      "model_module": "@jupyter-widgets/base",
      "model_module_version": "1.2.0",
      "model_name": "LayoutModel",
      "state": {
       "_model_module": "@jupyter-widgets/base",
       "_model_module_version": "1.2.0",
       "_model_name": "LayoutModel",
       "_view_count": null,
       "_view_module": "@jupyter-widgets/base",
       "_view_module_version": "1.2.0",
       "_view_name": "LayoutView",
       "align_content": null,
       "align_items": null,
       "align_self": null,
       "border": null,
       "bottom": null,
       "display": null,
       "flex": null,
       "flex_flow": null,
       "grid_area": null,
       "grid_auto_columns": null,
       "grid_auto_flow": null,
       "grid_auto_rows": null,
       "grid_column": null,
       "grid_gap": null,
       "grid_row": null,
       "grid_template_areas": null,
       "grid_template_columns": null,
       "grid_template_rows": null,
       "height": null,
       "justify_content": null,
       "justify_items": null,
       "left": null,
       "margin": null,
       "max_height": null,
       "max_width": null,
       "min_height": null,
       "min_width": null,
       "object_fit": null,
       "object_position": null,
       "order": null,
       "overflow": null,
       "overflow_x": null,
       "overflow_y": null,
       "padding": null,
       "right": null,
       "top": null,
       "visibility": null,
       "width": null
      }
     },
     "09b57d3bcdf442d987f6b0f8a899c104": {
      "model_module": "@jupyter-widgets/controls",
      "model_module_version": "1.5.0",
      "model_name": "DescriptionStyleModel",
      "state": {
       "_model_module": "@jupyter-widgets/controls",
       "_model_module_version": "1.5.0",
       "_model_name": "DescriptionStyleModel",
       "_view_count": null,
       "_view_module": "@jupyter-widgets/base",
       "_view_module_version": "1.2.0",
       "_view_name": "StyleView",
       "description_width": ""
      }
     },
     "0ba563677f6845c5bce9e4de9eab3484": {
      "model_module": "@jupyter-widgets/controls",
      "model_module_version": "1.5.0",
      "model_name": "DescriptionStyleModel",
      "state": {
       "_model_module": "@jupyter-widgets/controls",
       "_model_module_version": "1.5.0",
       "_model_name": "DescriptionStyleModel",
       "_view_count": null,
       "_view_module": "@jupyter-widgets/base",
       "_view_module_version": "1.2.0",
       "_view_name": "StyleView",
       "description_width": ""
      }
     },
     "1088419484b84511b8b629bd63b06ab4": {
      "model_module": "@jupyter-widgets/base",
      "model_module_version": "1.2.0",
      "model_name": "LayoutModel",
      "state": {
       "_model_module": "@jupyter-widgets/base",
       "_model_module_version": "1.2.0",
       "_model_name": "LayoutModel",
       "_view_count": null,
       "_view_module": "@jupyter-widgets/base",
       "_view_module_version": "1.2.0",
       "_view_name": "LayoutView",
       "align_content": null,
       "align_items": null,
       "align_self": null,
       "border": null,
       "bottom": null,
       "display": null,
       "flex": null,
       "flex_flow": null,
       "grid_area": null,
       "grid_auto_columns": null,
       "grid_auto_flow": null,
       "grid_auto_rows": null,
       "grid_column": null,
       "grid_gap": null,
       "grid_row": null,
       "grid_template_areas": null,
       "grid_template_columns": null,
       "grid_template_rows": null,
       "height": null,
       "justify_content": null,
       "justify_items": null,
       "left": null,
       "margin": null,
       "max_height": null,
       "max_width": null,
       "min_height": null,
       "min_width": null,
       "object_fit": null,
       "object_position": null,
       "order": null,
       "overflow": null,
       "overflow_x": null,
       "overflow_y": null,
       "padding": null,
       "right": null,
       "top": null,
       "visibility": null,
       "width": null
      }
     },
     "118d40d686cf46479458a6b5be6313b7": {
      "model_module": "@jupyter-widgets/controls",
      "model_module_version": "1.5.0",
      "model_name": "DescriptionStyleModel",
      "state": {
       "_model_module": "@jupyter-widgets/controls",
       "_model_module_version": "1.5.0",
       "_model_name": "DescriptionStyleModel",
       "_view_count": null,
       "_view_module": "@jupyter-widgets/base",
       "_view_module_version": "1.2.0",
       "_view_name": "StyleView",
       "description_width": ""
      }
     },
     "15301670329a48e5871b07a454ae514b": {
      "model_module": "@jupyter-widgets/controls",
      "model_module_version": "1.5.0",
      "model_name": "FloatProgressModel",
      "state": {
       "_dom_classes": [],
       "_model_module": "@jupyter-widgets/controls",
       "_model_module_version": "1.5.0",
       "_model_name": "FloatProgressModel",
       "_view_count": null,
       "_view_module": "@jupyter-widgets/controls",
       "_view_module_version": "1.5.0",
       "_view_name": "ProgressView",
       "bar_style": "success",
       "description": "",
       "description_tooltip": null,
       "layout": "IPY_MODEL_17667c9a282345b48ae13045f015d99e",
       "max": 18,
       "min": 0,
       "orientation": "horizontal",
       "style": "IPY_MODEL_8074e021801249d0b98dfc8a80278a5f",
       "value": 18
      }
     },
     "16cce8726e35492cbf7b4e79df3a28d1": {
      "model_module": "@jupyter-widgets/controls",
      "model_module_version": "1.5.0",
      "model_name": "ProgressStyleModel",
      "state": {
       "_model_module": "@jupyter-widgets/controls",
       "_model_module_version": "1.5.0",
       "_model_name": "ProgressStyleModel",
       "_view_count": null,
       "_view_module": "@jupyter-widgets/base",
       "_view_module_version": "1.2.0",
       "_view_name": "StyleView",
       "bar_color": null,
       "description_width": ""
      }
     },
     "171d0da506694088bbb6287b47ffe9d6": {
      "model_module": "@jupyter-widgets/controls",
      "model_module_version": "1.5.0",
      "model_name": "FloatProgressModel",
      "state": {
       "_dom_classes": [],
       "_model_module": "@jupyter-widgets/controls",
       "_model_module_version": "1.5.0",
       "_model_name": "FloatProgressModel",
       "_view_count": null,
       "_view_module": "@jupyter-widgets/controls",
       "_view_module_version": "1.5.0",
       "_view_name": "ProgressView",
       "bar_style": "success",
       "description": "",
       "description_tooltip": null,
       "layout": "IPY_MODEL_27099e78dca54f05b4c21dcdd3561c8d",
       "max": 18,
       "min": 0,
       "orientation": "horizontal",
       "style": "IPY_MODEL_7b84dc778d0d4989846742530041131b",
       "value": 18
      }
     },
     "17667c9a282345b48ae13045f015d99e": {
      "model_module": "@jupyter-widgets/base",
      "model_module_version": "1.2.0",
      "model_name": "LayoutModel",
      "state": {
       "_model_module": "@jupyter-widgets/base",
       "_model_module_version": "1.2.0",
       "_model_name": "LayoutModel",
       "_view_count": null,
       "_view_module": "@jupyter-widgets/base",
       "_view_module_version": "1.2.0",
       "_view_name": "LayoutView",
       "align_content": null,
       "align_items": null,
       "align_self": null,
       "border": null,
       "bottom": null,
       "display": null,
       "flex": null,
       "flex_flow": null,
       "grid_area": null,
       "grid_auto_columns": null,
       "grid_auto_flow": null,
       "grid_auto_rows": null,
       "grid_column": null,
       "grid_gap": null,
       "grid_row": null,
       "grid_template_areas": null,
       "grid_template_columns": null,
       "grid_template_rows": null,
       "height": null,
       "justify_content": null,
       "justify_items": null,
       "left": null,
       "margin": null,
       "max_height": null,
       "max_width": null,
       "min_height": null,
       "min_width": null,
       "object_fit": null,
       "object_position": null,
       "order": null,
       "overflow": null,
       "overflow_x": null,
       "overflow_y": null,
       "padding": null,
       "right": null,
       "top": null,
       "visibility": null,
       "width": null
      }
     },
     "27099e78dca54f05b4c21dcdd3561c8d": {
      "model_module": "@jupyter-widgets/base",
      "model_module_version": "1.2.0",
      "model_name": "LayoutModel",
      "state": {
       "_model_module": "@jupyter-widgets/base",
       "_model_module_version": "1.2.0",
       "_model_name": "LayoutModel",
       "_view_count": null,
       "_view_module": "@jupyter-widgets/base",
       "_view_module_version": "1.2.0",
       "_view_name": "LayoutView",
       "align_content": null,
       "align_items": null,
       "align_self": null,
       "border": null,
       "bottom": null,
       "display": null,
       "flex": null,
       "flex_flow": null,
       "grid_area": null,
       "grid_auto_columns": null,
       "grid_auto_flow": null,
       "grid_auto_rows": null,
       "grid_column": null,
       "grid_gap": null,
       "grid_row": null,
       "grid_template_areas": null,
       "grid_template_columns": null,
       "grid_template_rows": null,
       "height": null,
       "justify_content": null,
       "justify_items": null,
       "left": null,
       "margin": null,
       "max_height": null,
       "max_width": null,
       "min_height": null,
       "min_width": null,
       "object_fit": null,
       "object_position": null,
       "order": null,
       "overflow": null,
       "overflow_x": null,
       "overflow_y": null,
       "padding": null,
       "right": null,
       "top": null,
       "visibility": null,
       "width": null
      }
     },
     "34b69fba99804e56bf85aecadd68a073": {
      "model_module": "@jupyter-widgets/controls",
      "model_module_version": "1.5.0",
      "model_name": "DescriptionStyleModel",
      "state": {
       "_model_module": "@jupyter-widgets/controls",
       "_model_module_version": "1.5.0",
       "_model_name": "DescriptionStyleModel",
       "_view_count": null,
       "_view_module": "@jupyter-widgets/base",
       "_view_module_version": "1.2.0",
       "_view_name": "StyleView",
       "description_width": ""
      }
     },
     "3572bf387c654cea902d132e3d5f471d": {
      "model_module": "@jupyter-widgets/controls",
      "model_module_version": "1.5.0",
      "model_name": "HBoxModel",
      "state": {
       "_dom_classes": [],
       "_model_module": "@jupyter-widgets/controls",
       "_model_module_version": "1.5.0",
       "_model_name": "HBoxModel",
       "_view_count": null,
       "_view_module": "@jupyter-widgets/controls",
       "_view_module_version": "1.5.0",
       "_view_name": "HBoxView",
       "box_style": "",
       "children": [
        "IPY_MODEL_d0f1370fb7214b2695fe3837963102a7",
        "IPY_MODEL_f35aaa31ef6a45109ede4f60340321d4",
        "IPY_MODEL_39adaa11ed814fa0ac9ffc20c5d38028"
       ],
       "layout": "IPY_MODEL_5ed4724c8dd14de489c2c64f10923a92"
      }
     },
     "38a9a304a86f4ec5bdf108a226816a29": {
      "model_module": "@jupyter-widgets/base",
      "model_module_version": "1.2.0",
      "model_name": "LayoutModel",
      "state": {
       "_model_module": "@jupyter-widgets/base",
       "_model_module_version": "1.2.0",
       "_model_name": "LayoutModel",
       "_view_count": null,
       "_view_module": "@jupyter-widgets/base",
       "_view_module_version": "1.2.0",
       "_view_name": "LayoutView",
       "align_content": null,
       "align_items": null,
       "align_self": null,
       "border": null,
       "bottom": null,
       "display": null,
       "flex": null,
       "flex_flow": null,
       "grid_area": null,
       "grid_auto_columns": null,
       "grid_auto_flow": null,
       "grid_auto_rows": null,
       "grid_column": null,
       "grid_gap": null,
       "grid_row": null,
       "grid_template_areas": null,
       "grid_template_columns": null,
       "grid_template_rows": null,
       "height": null,
       "justify_content": null,
       "justify_items": null,
       "left": null,
       "margin": null,
       "max_height": null,
       "max_width": null,
       "min_height": null,
       "min_width": null,
       "object_fit": null,
       "object_position": null,
       "order": null,
       "overflow": null,
       "overflow_x": null,
       "overflow_y": null,
       "padding": null,
       "right": null,
       "top": null,
       "visibility": null,
       "width": null
      }
     },
     "39adaa11ed814fa0ac9ffc20c5d38028": {
      "model_module": "@jupyter-widgets/controls",
      "model_module_version": "1.5.0",
      "model_name": "HTMLModel",
      "state": {
       "_dom_classes": [],
       "_model_module": "@jupyter-widgets/controls",
       "_model_module_version": "1.5.0",
       "_model_name": "HTMLModel",
       "_view_count": null,
       "_view_module": "@jupyter-widgets/controls",
       "_view_module_version": "1.5.0",
       "_view_name": "HTMLView",
       "description": "",
       "description_tooltip": null,
       "layout": "IPY_MODEL_4e76f11aa32649bdb985d0a249444eb4",
       "placeholder": "​",
       "style": "IPY_MODEL_e815461817a1476ca1da3df6b0d43d7e",
       "value": " 18/18 [00:03&lt;00:00,  8.51it/s]"
      }
     },
     "3cd93fcdc7054d22a55942516008e279": {
      "model_module": "@jupyter-widgets/controls",
      "model_module_version": "1.5.0",
      "model_name": "HTMLModel",
      "state": {
       "_dom_classes": [],
       "_model_module": "@jupyter-widgets/controls",
       "_model_module_version": "1.5.0",
       "_model_name": "HTMLModel",
       "_view_count": null,
       "_view_module": "@jupyter-widgets/controls",
       "_view_module_version": "1.5.0",
       "_view_name": "HTMLView",
       "description": "",
       "description_tooltip": null,
       "layout": "IPY_MODEL_ebe805147074425fbc37d49daf4f0eeb",
       "placeholder": "​",
       "style": "IPY_MODEL_ae3631c15a074c8a9d23c41063dc4356",
       "value": " 18/18 [00:03&lt;00:00,  9.13it/s]"
      }
     },
     "3e8cc65fef964558bcfb1e1d918068ed": {
      "model_module": "@jupyter-widgets/base",
      "model_module_version": "1.2.0",
      "model_name": "LayoutModel",
      "state": {
       "_model_module": "@jupyter-widgets/base",
       "_model_module_version": "1.2.0",
       "_model_name": "LayoutModel",
       "_view_count": null,
       "_view_module": "@jupyter-widgets/base",
       "_view_module_version": "1.2.0",
       "_view_name": "LayoutView",
       "align_content": null,
       "align_items": null,
       "align_self": null,
       "border": null,
       "bottom": null,
       "display": null,
       "flex": null,
       "flex_flow": null,
       "grid_area": null,
       "grid_auto_columns": null,
       "grid_auto_flow": null,
       "grid_auto_rows": null,
       "grid_column": null,
       "grid_gap": null,
       "grid_row": null,
       "grid_template_areas": null,
       "grid_template_columns": null,
       "grid_template_rows": null,
       "height": null,
       "justify_content": null,
       "justify_items": null,
       "left": null,
       "margin": null,
       "max_height": null,
       "max_width": null,
       "min_height": null,
       "min_width": null,
       "object_fit": null,
       "object_position": null,
       "order": null,
       "overflow": null,
       "overflow_x": null,
       "overflow_y": null,
       "padding": null,
       "right": null,
       "top": null,
       "visibility": null,
       "width": null
      }
     },
     "4d582a102d814a9ba4a5d63df3eeceb9": {
      "model_module": "@jupyter-widgets/base",
      "model_module_version": "1.2.0",
      "model_name": "LayoutModel",
      "state": {
       "_model_module": "@jupyter-widgets/base",
       "_model_module_version": "1.2.0",
       "_model_name": "LayoutModel",
       "_view_count": null,
       "_view_module": "@jupyter-widgets/base",
       "_view_module_version": "1.2.0",
       "_view_name": "LayoutView",
       "align_content": null,
       "align_items": null,
       "align_self": null,
       "border": null,
       "bottom": null,
       "display": null,
       "flex": null,
       "flex_flow": null,
       "grid_area": null,
       "grid_auto_columns": null,
       "grid_auto_flow": null,
       "grid_auto_rows": null,
       "grid_column": null,
       "grid_gap": null,
       "grid_row": null,
       "grid_template_areas": null,
       "grid_template_columns": null,
       "grid_template_rows": null,
       "height": null,
       "justify_content": null,
       "justify_items": null,
       "left": null,
       "margin": null,
       "max_height": null,
       "max_width": null,
       "min_height": null,
       "min_width": null,
       "object_fit": null,
       "object_position": null,
       "order": null,
       "overflow": null,
       "overflow_x": null,
       "overflow_y": null,
       "padding": null,
       "right": null,
       "top": null,
       "visibility": null,
       "width": null
      }
     },
     "4e76f11aa32649bdb985d0a249444eb4": {
      "model_module": "@jupyter-widgets/base",
      "model_module_version": "1.2.0",
      "model_name": "LayoutModel",
      "state": {
       "_model_module": "@jupyter-widgets/base",
       "_model_module_version": "1.2.0",
       "_model_name": "LayoutModel",
       "_view_count": null,
       "_view_module": "@jupyter-widgets/base",
       "_view_module_version": "1.2.0",
       "_view_name": "LayoutView",
       "align_content": null,
       "align_items": null,
       "align_self": null,
       "border": null,
       "bottom": null,
       "display": null,
       "flex": null,
       "flex_flow": null,
       "grid_area": null,
       "grid_auto_columns": null,
       "grid_auto_flow": null,
       "grid_auto_rows": null,
       "grid_column": null,
       "grid_gap": null,
       "grid_row": null,
       "grid_template_areas": null,
       "grid_template_columns": null,
       "grid_template_rows": null,
       "height": null,
       "justify_content": null,
       "justify_items": null,
       "left": null,
       "margin": null,
       "max_height": null,
       "max_width": null,
       "min_height": null,
       "min_width": null,
       "object_fit": null,
       "object_position": null,
       "order": null,
       "overflow": null,
       "overflow_x": null,
       "overflow_y": null,
       "padding": null,
       "right": null,
       "top": null,
       "visibility": null,
       "width": null
      }
     },
     "5ad6baef302f47409d7ca68242b7628a": {
      "model_module": "@jupyter-widgets/controls",
      "model_module_version": "1.5.0",
      "model_name": "HTMLModel",
      "state": {
       "_dom_classes": [],
       "_model_module": "@jupyter-widgets/controls",
       "_model_module_version": "1.5.0",
       "_model_name": "HTMLModel",
       "_view_count": null,
       "_view_module": "@jupyter-widgets/controls",
       "_view_module_version": "1.5.0",
       "_view_name": "HTMLView",
       "description": "",
       "description_tooltip": null,
       "layout": "IPY_MODEL_758983fbfde643bab0fd87af53c35ba1",
       "placeholder": "​",
       "style": "IPY_MODEL_ef2f25d538114c8f93289d89cdf9cab2",
       "value": "100%"
      }
     },
     "5dd181c50fe44ad88c42e821b6579917": {
      "model_module": "@jupyter-widgets/controls",
      "model_module_version": "1.5.0",
      "model_name": "ProgressStyleModel",
      "state": {
       "_model_module": "@jupyter-widgets/controls",
       "_model_module_version": "1.5.0",
       "_model_name": "ProgressStyleModel",
       "_view_count": null,
       "_view_module": "@jupyter-widgets/base",
       "_view_module_version": "1.2.0",
       "_view_name": "StyleView",
       "bar_color": null,
       "description_width": ""
      }
     },
     "5ed4724c8dd14de489c2c64f10923a92": {
      "model_module": "@jupyter-widgets/base",
      "model_module_version": "1.2.0",
      "model_name": "LayoutModel",
      "state": {
       "_model_module": "@jupyter-widgets/base",
       "_model_module_version": "1.2.0",
       "_model_name": "LayoutModel",
       "_view_count": null,
       "_view_module": "@jupyter-widgets/base",
       "_view_module_version": "1.2.0",
       "_view_name": "LayoutView",
       "align_content": null,
       "align_items": null,
       "align_self": null,
       "border": null,
       "bottom": null,
       "display": null,
       "flex": null,
       "flex_flow": null,
       "grid_area": null,
       "grid_auto_columns": null,
       "grid_auto_flow": null,
       "grid_auto_rows": null,
       "grid_column": null,
       "grid_gap": null,
       "grid_row": null,
       "grid_template_areas": null,
       "grid_template_columns": null,
       "grid_template_rows": null,
       "height": null,
       "justify_content": null,
       "justify_items": null,
       "left": null,
       "margin": null,
       "max_height": null,
       "max_width": null,
       "min_height": null,
       "min_width": null,
       "object_fit": null,
       "object_position": null,
       "order": null,
       "overflow": null,
       "overflow_x": null,
       "overflow_y": null,
       "padding": null,
       "right": null,
       "top": null,
       "visibility": null,
       "width": null
      }
     },
     "72d2592dc23e4b62af56329dc10de6d6": {
      "model_module": "@jupyter-widgets/controls",
      "model_module_version": "1.5.0",
      "model_name": "FloatProgressModel",
      "state": {
       "_dom_classes": [],
       "_model_module": "@jupyter-widgets/controls",
       "_model_module_version": "1.5.0",
       "_model_name": "FloatProgressModel",
       "_view_count": null,
       "_view_module": "@jupyter-widgets/controls",
       "_view_module_version": "1.5.0",
       "_view_name": "ProgressView",
       "bar_style": "success",
       "description": "",
       "description_tooltip": null,
       "layout": "IPY_MODEL_9ee260a59d4942029536ef74014e6dbd",
       "max": 18,
       "min": 0,
       "orientation": "horizontal",
       "style": "IPY_MODEL_5dd181c50fe44ad88c42e821b6579917",
       "value": 18
      }
     },
     "758983fbfde643bab0fd87af53c35ba1": {
      "model_module": "@jupyter-widgets/base",
      "model_module_version": "1.2.0",
      "model_name": "LayoutModel",
      "state": {
       "_model_module": "@jupyter-widgets/base",
       "_model_module_version": "1.2.0",
       "_model_name": "LayoutModel",
       "_view_count": null,
       "_view_module": "@jupyter-widgets/base",
       "_view_module_version": "1.2.0",
       "_view_name": "LayoutView",
       "align_content": null,
       "align_items": null,
       "align_self": null,
       "border": null,
       "bottom": null,
       "display": null,
       "flex": null,
       "flex_flow": null,
       "grid_area": null,
       "grid_auto_columns": null,
       "grid_auto_flow": null,
       "grid_auto_rows": null,
       "grid_column": null,
       "grid_gap": null,
       "grid_row": null,
       "grid_template_areas": null,
       "grid_template_columns": null,
       "grid_template_rows": null,
       "height": null,
       "justify_content": null,
       "justify_items": null,
       "left": null,
       "margin": null,
       "max_height": null,
       "max_width": null,
       "min_height": null,
       "min_width": null,
       "object_fit": null,
       "object_position": null,
       "order": null,
       "overflow": null,
       "overflow_x": null,
       "overflow_y": null,
       "padding": null,
       "right": null,
       "top": null,
       "visibility": null,
       "width": null
      }
     },
     "78d5ca27df834faabfaff13b20b24f19": {
      "model_module": "@jupyter-widgets/base",
      "model_module_version": "1.2.0",
      "model_name": "LayoutModel",
      "state": {
       "_model_module": "@jupyter-widgets/base",
       "_model_module_version": "1.2.0",
       "_model_name": "LayoutModel",
       "_view_count": null,
       "_view_module": "@jupyter-widgets/base",
       "_view_module_version": "1.2.0",
       "_view_name": "LayoutView",
       "align_content": null,
       "align_items": null,
       "align_self": null,
       "border": null,
       "bottom": null,
       "display": null,
       "flex": null,
       "flex_flow": null,
       "grid_area": null,
       "grid_auto_columns": null,
       "grid_auto_flow": null,
       "grid_auto_rows": null,
       "grid_column": null,
       "grid_gap": null,
       "grid_row": null,
       "grid_template_areas": null,
       "grid_template_columns": null,
       "grid_template_rows": null,
       "height": null,
       "justify_content": null,
       "justify_items": null,
       "left": null,
       "margin": null,
       "max_height": null,
       "max_width": null,
       "min_height": null,
       "min_width": null,
       "object_fit": null,
       "object_position": null,
       "order": null,
       "overflow": null,
       "overflow_x": null,
       "overflow_y": null,
       "padding": null,
       "right": null,
       "top": null,
       "visibility": null,
       "width": null
      }
     },
     "79c8145fc95f42deb033619b202abccf": {
      "model_module": "@jupyter-widgets/controls",
      "model_module_version": "1.5.0",
      "model_name": "FloatProgressModel",
      "state": {
       "_dom_classes": [],
       "_model_module": "@jupyter-widgets/controls",
       "_model_module_version": "1.5.0",
       "_model_name": "FloatProgressModel",
       "_view_count": null,
       "_view_module": "@jupyter-widgets/controls",
       "_view_module_version": "1.5.0",
       "_view_name": "ProgressView",
       "bar_style": "success",
       "description": "",
       "description_tooltip": null,
       "layout": "IPY_MODEL_9de5326da55842a88236f6883a2d9d34",
       "max": 18,
       "min": 0,
       "orientation": "horizontal",
       "style": "IPY_MODEL_16cce8726e35492cbf7b4e79df3a28d1",
       "value": 18
      }
     },
     "7b84dc778d0d4989846742530041131b": {
      "model_module": "@jupyter-widgets/controls",
      "model_module_version": "1.5.0",
      "model_name": "ProgressStyleModel",
      "state": {
       "_model_module": "@jupyter-widgets/controls",
       "_model_module_version": "1.5.0",
       "_model_name": "ProgressStyleModel",
       "_view_count": null,
       "_view_module": "@jupyter-widgets/base",
       "_view_module_version": "1.2.0",
       "_view_name": "StyleView",
       "bar_color": null,
       "description_width": ""
      }
     },
     "8074e021801249d0b98dfc8a80278a5f": {
      "model_module": "@jupyter-widgets/controls",
      "model_module_version": "1.5.0",
      "model_name": "ProgressStyleModel",
      "state": {
       "_model_module": "@jupyter-widgets/controls",
       "_model_module_version": "1.5.0",
       "_model_name": "ProgressStyleModel",
       "_view_count": null,
       "_view_module": "@jupyter-widgets/base",
       "_view_module_version": "1.2.0",
       "_view_name": "StyleView",
       "bar_color": null,
       "description_width": ""
      }
     },
     "81a27cae1e0b46448f23b052f2f80b0a": {
      "model_module": "@jupyter-widgets/base",
      "model_module_version": "1.2.0",
      "model_name": "LayoutModel",
      "state": {
       "_model_module": "@jupyter-widgets/base",
       "_model_module_version": "1.2.0",
       "_model_name": "LayoutModel",
       "_view_count": null,
       "_view_module": "@jupyter-widgets/base",
       "_view_module_version": "1.2.0",
       "_view_name": "LayoutView",
       "align_content": null,
       "align_items": null,
       "align_self": null,
       "border": null,
       "bottom": null,
       "display": null,
       "flex": null,
       "flex_flow": null,
       "grid_area": null,
       "grid_auto_columns": null,
       "grid_auto_flow": null,
       "grid_auto_rows": null,
       "grid_column": null,
       "grid_gap": null,
       "grid_row": null,
       "grid_template_areas": null,
       "grid_template_columns": null,
       "grid_template_rows": null,
       "height": null,
       "justify_content": null,
       "justify_items": null,
       "left": null,
       "margin": null,
       "max_height": null,
       "max_width": null,
       "min_height": null,
       "min_width": null,
       "object_fit": null,
       "object_position": null,
       "order": null,
       "overflow": null,
       "overflow_x": null,
       "overflow_y": null,
       "padding": null,
       "right": null,
       "top": null,
       "visibility": null,
       "width": null
      }
     },
     "9033545cd2d24f668b0abdc73d702094": {
      "model_module": "@jupyter-widgets/controls",
      "model_module_version": "1.5.0",
      "model_name": "HTMLModel",
      "state": {
       "_dom_classes": [],
       "_model_module": "@jupyter-widgets/controls",
       "_model_module_version": "1.5.0",
       "_model_name": "HTMLModel",
       "_view_count": null,
       "_view_module": "@jupyter-widgets/controls",
       "_view_module_version": "1.5.0",
       "_view_name": "HTMLView",
       "description": "",
       "description_tooltip": null,
       "layout": "IPY_MODEL_38a9a304a86f4ec5bdf108a226816a29",
       "placeholder": "​",
       "style": "IPY_MODEL_118d40d686cf46479458a6b5be6313b7",
       "value": "100%"
      }
     },
     "92f7611ff3a149d0aadb62702c352ce3": {
      "model_module": "@jupyter-widgets/base",
      "model_module_version": "1.2.0",
      "model_name": "LayoutModel",
      "state": {
       "_model_module": "@jupyter-widgets/base",
       "_model_module_version": "1.2.0",
       "_model_name": "LayoutModel",
       "_view_count": null,
       "_view_module": "@jupyter-widgets/base",
       "_view_module_version": "1.2.0",
       "_view_name": "LayoutView",
       "align_content": null,
       "align_items": null,
       "align_self": null,
       "border": null,
       "bottom": null,
       "display": null,
       "flex": null,
       "flex_flow": null,
       "grid_area": null,
       "grid_auto_columns": null,
       "grid_auto_flow": null,
       "grid_auto_rows": null,
       "grid_column": null,
       "grid_gap": null,
       "grid_row": null,
       "grid_template_areas": null,
       "grid_template_columns": null,
       "grid_template_rows": null,
       "height": null,
       "justify_content": null,
       "justify_items": null,
       "left": null,
       "margin": null,
       "max_height": null,
       "max_width": null,
       "min_height": null,
       "min_width": null,
       "object_fit": null,
       "object_position": null,
       "order": null,
       "overflow": null,
       "overflow_x": null,
       "overflow_y": null,
       "padding": null,
       "right": null,
       "top": null,
       "visibility": null,
       "width": null
      }
     },
     "9354fc8ba3284768b52cc3ecbd1a742a": {
      "model_module": "@jupyter-widgets/base",
      "model_module_version": "1.2.0",
      "model_name": "LayoutModel",
      "state": {
       "_model_module": "@jupyter-widgets/base",
       "_model_module_version": "1.2.0",
       "_model_name": "LayoutModel",
       "_view_count": null,
       "_view_module": "@jupyter-widgets/base",
       "_view_module_version": "1.2.0",
       "_view_name": "LayoutView",
       "align_content": null,
       "align_items": null,
       "align_self": null,
       "border": null,
       "bottom": null,
       "display": null,
       "flex": null,
       "flex_flow": null,
       "grid_area": null,
       "grid_auto_columns": null,
       "grid_auto_flow": null,
       "grid_auto_rows": null,
       "grid_column": null,
       "grid_gap": null,
       "grid_row": null,
       "grid_template_areas": null,
       "grid_template_columns": null,
       "grid_template_rows": null,
       "height": null,
       "justify_content": null,
       "justify_items": null,
       "left": null,
       "margin": null,
       "max_height": null,
       "max_width": null,
       "min_height": null,
       "min_width": null,
       "object_fit": null,
       "object_position": null,
       "order": null,
       "overflow": null,
       "overflow_x": null,
       "overflow_y": null,
       "padding": null,
       "right": null,
       "top": null,
       "visibility": null,
       "width": null
      }
     },
     "95f0440c971f4dc1bf5af15a1105664b": {
      "model_module": "@jupyter-widgets/controls",
      "model_module_version": "1.5.0",
      "model_name": "HTMLModel",
      "state": {
       "_dom_classes": [],
       "_model_module": "@jupyter-widgets/controls",
       "_model_module_version": "1.5.0",
       "_model_name": "HTMLModel",
       "_view_count": null,
       "_view_module": "@jupyter-widgets/controls",
       "_view_module_version": "1.5.0",
       "_view_name": "HTMLView",
       "description": "",
       "description_tooltip": null,
       "layout": "IPY_MODEL_e336477ff47c44a39b689986e28aabb3",
       "placeholder": "​",
       "style": "IPY_MODEL_0ba563677f6845c5bce9e4de9eab3484",
       "value": " 18/18 [00:03&lt;00:00,  7.19it/s]"
      }
     },
     "95ff2f47f2f64a4d8cc0da708a6bf5fc": {
      "model_module": "@jupyter-widgets/base",
      "model_module_version": "1.2.0",
      "model_name": "LayoutModel",
      "state": {
       "_model_module": "@jupyter-widgets/base",
       "_model_module_version": "1.2.0",
       "_model_name": "LayoutModel",
       "_view_count": null,
       "_view_module": "@jupyter-widgets/base",
       "_view_module_version": "1.2.0",
       "_view_name": "LayoutView",
       "align_content": null,
       "align_items": null,
       "align_self": null,
       "border": null,
       "bottom": null,
       "display": null,
       "flex": null,
       "flex_flow": null,
       "grid_area": null,
       "grid_auto_columns": null,
       "grid_auto_flow": null,
       "grid_auto_rows": null,
       "grid_column": null,
       "grid_gap": null,
       "grid_row": null,
       "grid_template_areas": null,
       "grid_template_columns": null,
       "grid_template_rows": null,
       "height": null,
       "justify_content": null,
       "justify_items": null,
       "left": null,
       "margin": null,
       "max_height": null,
       "max_width": null,
       "min_height": null,
       "min_width": null,
       "object_fit": null,
       "object_position": null,
       "order": null,
       "overflow": null,
       "overflow_x": null,
       "overflow_y": null,
       "padding": null,
       "right": null,
       "top": null,
       "visibility": null,
       "width": null
      }
     },
     "9de5326da55842a88236f6883a2d9d34": {
      "model_module": "@jupyter-widgets/base",
      "model_module_version": "1.2.0",
      "model_name": "LayoutModel",
      "state": {
       "_model_module": "@jupyter-widgets/base",
       "_model_module_version": "1.2.0",
       "_model_name": "LayoutModel",
       "_view_count": null,
       "_view_module": "@jupyter-widgets/base",
       "_view_module_version": "1.2.0",
       "_view_name": "LayoutView",
       "align_content": null,
       "align_items": null,
       "align_self": null,
       "border": null,
       "bottom": null,
       "display": null,
       "flex": null,
       "flex_flow": null,
       "grid_area": null,
       "grid_auto_columns": null,
       "grid_auto_flow": null,
       "grid_auto_rows": null,
       "grid_column": null,
       "grid_gap": null,
       "grid_row": null,
       "grid_template_areas": null,
       "grid_template_columns": null,
       "grid_template_rows": null,
       "height": null,
       "justify_content": null,
       "justify_items": null,
       "left": null,
       "margin": null,
       "max_height": null,
       "max_width": null,
       "min_height": null,
       "min_width": null,
       "object_fit": null,
       "object_position": null,
       "order": null,
       "overflow": null,
       "overflow_x": null,
       "overflow_y": null,
       "padding": null,
       "right": null,
       "top": null,
       "visibility": null,
       "width": null
      }
     },
     "9ee260a59d4942029536ef74014e6dbd": {
      "model_module": "@jupyter-widgets/base",
      "model_module_version": "1.2.0",
      "model_name": "LayoutModel",
      "state": {
       "_model_module": "@jupyter-widgets/base",
       "_model_module_version": "1.2.0",
       "_model_name": "LayoutModel",
       "_view_count": null,
       "_view_module": "@jupyter-widgets/base",
       "_view_module_version": "1.2.0",
       "_view_name": "LayoutView",
       "align_content": null,
       "align_items": null,
       "align_self": null,
       "border": null,
       "bottom": null,
       "display": null,
       "flex": null,
       "flex_flow": null,
       "grid_area": null,
       "grid_auto_columns": null,
       "grid_auto_flow": null,
       "grid_auto_rows": null,
       "grid_column": null,
       "grid_gap": null,
       "grid_row": null,
       "grid_template_areas": null,
       "grid_template_columns": null,
       "grid_template_rows": null,
       "height": null,
       "justify_content": null,
       "justify_items": null,
       "left": null,
       "margin": null,
       "max_height": null,
       "max_width": null,
       "min_height": null,
       "min_width": null,
       "object_fit": null,
       "object_position": null,
       "order": null,
       "overflow": null,
       "overflow_x": null,
       "overflow_y": null,
       "padding": null,
       "right": null,
       "top": null,
       "visibility": null,
       "width": null
      }
     },
     "a32567413ae64f26a1cd03a270b8c82b": {
      "model_module": "@jupyter-widgets/controls",
      "model_module_version": "1.5.0",
      "model_name": "HBoxModel",
      "state": {
       "_dom_classes": [],
       "_model_module": "@jupyter-widgets/controls",
       "_model_module_version": "1.5.0",
       "_model_name": "HBoxModel",
       "_view_count": null,
       "_view_module": "@jupyter-widgets/controls",
       "_view_module_version": "1.5.0",
       "_view_name": "HBoxView",
       "box_style": "",
       "children": [
        "IPY_MODEL_9033545cd2d24f668b0abdc73d702094",
        "IPY_MODEL_15301670329a48e5871b07a454ae514b",
        "IPY_MODEL_c2b776e42951412db0a5fa528590085f"
       ],
       "layout": "IPY_MODEL_95ff2f47f2f64a4d8cc0da708a6bf5fc"
      }
     },
     "a9488046b90d441a8fe6f65ba7dcbf2c": {
      "model_module": "@jupyter-widgets/controls",
      "model_module_version": "1.5.0",
      "model_name": "DescriptionStyleModel",
      "state": {
       "_model_module": "@jupyter-widgets/controls",
       "_model_module_version": "1.5.0",
       "_model_name": "DescriptionStyleModel",
       "_view_count": null,
       "_view_module": "@jupyter-widgets/base",
       "_view_module_version": "1.2.0",
       "_view_name": "StyleView",
       "description_width": ""
      }
     },
     "ae3631c15a074c8a9d23c41063dc4356": {
      "model_module": "@jupyter-widgets/controls",
      "model_module_version": "1.5.0",
      "model_name": "DescriptionStyleModel",
      "state": {
       "_model_module": "@jupyter-widgets/controls",
       "_model_module_version": "1.5.0",
       "_model_name": "DescriptionStyleModel",
       "_view_count": null,
       "_view_module": "@jupyter-widgets/base",
       "_view_module_version": "1.2.0",
       "_view_name": "StyleView",
       "description_width": ""
      }
     },
     "b27b7015f15c4153a59b6e55c4e74e12": {
      "model_module": "@jupyter-widgets/controls",
      "model_module_version": "1.5.0",
      "model_name": "DescriptionStyleModel",
      "state": {
       "_model_module": "@jupyter-widgets/controls",
       "_model_module_version": "1.5.0",
       "_model_name": "DescriptionStyleModel",
       "_view_count": null,
       "_view_module": "@jupyter-widgets/base",
       "_view_module_version": "1.2.0",
       "_view_name": "StyleView",
       "description_width": ""
      }
     },
     "bbee511bb02c4aa4896ab0747b92f674": {
      "model_module": "@jupyter-widgets/controls",
      "model_module_version": "1.5.0",
      "model_name": "DescriptionStyleModel",
      "state": {
       "_model_module": "@jupyter-widgets/controls",
       "_model_module_version": "1.5.0",
       "_model_name": "DescriptionStyleModel",
       "_view_count": null,
       "_view_module": "@jupyter-widgets/base",
       "_view_module_version": "1.2.0",
       "_view_name": "StyleView",
       "description_width": ""
      }
     },
     "bd6334e62677497eb87f483de9b450c7": {
      "model_module": "@jupyter-widgets/controls",
      "model_module_version": "1.5.0",
      "model_name": "HTMLModel",
      "state": {
       "_dom_classes": [],
       "_model_module": "@jupyter-widgets/controls",
       "_model_module_version": "1.5.0",
       "_model_name": "HTMLModel",
       "_view_count": null,
       "_view_module": "@jupyter-widgets/controls",
       "_view_module_version": "1.5.0",
       "_view_name": "HTMLView",
       "description": "",
       "description_tooltip": null,
       "layout": "IPY_MODEL_9354fc8ba3284768b52cc3ecbd1a742a",
       "placeholder": "​",
       "style": "IPY_MODEL_bbee511bb02c4aa4896ab0747b92f674",
       "value": " 18/18 [00:03&lt;00:00,  8.23it/s]"
      }
     },
     "c24079bc0e11410bb4726f7885e3b5ba": {
      "model_module": "@jupyter-widgets/controls",
      "model_module_version": "1.5.0",
      "model_name": "HTMLModel",
      "state": {
       "_dom_classes": [],
       "_model_module": "@jupyter-widgets/controls",
       "_model_module_version": "1.5.0",
       "_model_name": "HTMLModel",
       "_view_count": null,
       "_view_module": "@jupyter-widgets/controls",
       "_view_module_version": "1.5.0",
       "_view_name": "HTMLView",
       "description": "",
       "description_tooltip": null,
       "layout": "IPY_MODEL_3e8cc65fef964558bcfb1e1d918068ed",
       "placeholder": "​",
       "style": "IPY_MODEL_09b57d3bcdf442d987f6b0f8a899c104",
       "value": "100%"
      }
     },
     "c2b776e42951412db0a5fa528590085f": {
      "model_module": "@jupyter-widgets/controls",
      "model_module_version": "1.5.0",
      "model_name": "HTMLModel",
      "state": {
       "_dom_classes": [],
       "_model_module": "@jupyter-widgets/controls",
       "_model_module_version": "1.5.0",
       "_model_name": "HTMLModel",
       "_view_count": null,
       "_view_module": "@jupyter-widgets/controls",
       "_view_module_version": "1.5.0",
       "_view_name": "HTMLView",
       "description": "",
       "description_tooltip": null,
       "layout": "IPY_MODEL_78d5ca27df834faabfaff13b20b24f19",
       "placeholder": "​",
       "style": "IPY_MODEL_b27b7015f15c4153a59b6e55c4e74e12",
       "value": " 18/18 [00:08&lt;00:00,  7.11it/s]"
      }
     },
     "d0f1370fb7214b2695fe3837963102a7": {
      "model_module": "@jupyter-widgets/controls",
      "model_module_version": "1.5.0",
      "model_name": "HTMLModel",
      "state": {
       "_dom_classes": [],
       "_model_module": "@jupyter-widgets/controls",
       "_model_module_version": "1.5.0",
       "_model_name": "HTMLModel",
       "_view_count": null,
       "_view_module": "@jupyter-widgets/controls",
       "_view_module_version": "1.5.0",
       "_view_name": "HTMLView",
       "description": "",
       "description_tooltip": null,
       "layout": "IPY_MODEL_d7b69759874a449b8f463383869751d2",
       "placeholder": "​",
       "style": "IPY_MODEL_34b69fba99804e56bf85aecadd68a073",
       "value": "100%"
      }
     },
     "d7b69759874a449b8f463383869751d2": {
      "model_module": "@jupyter-widgets/base",
      "model_module_version": "1.2.0",
      "model_name": "LayoutModel",
      "state": {
       "_model_module": "@jupyter-widgets/base",
       "_model_module_version": "1.2.0",
       "_model_name": "LayoutModel",
       "_view_count": null,
       "_view_module": "@jupyter-widgets/base",
       "_view_module_version": "1.2.0",
       "_view_name": "LayoutView",
       "align_content": null,
       "align_items": null,
       "align_self": null,
       "border": null,
       "bottom": null,
       "display": null,
       "flex": null,
       "flex_flow": null,
       "grid_area": null,
       "grid_auto_columns": null,
       "grid_auto_flow": null,
       "grid_auto_rows": null,
       "grid_column": null,
       "grid_gap": null,
       "grid_row": null,
       "grid_template_areas": null,
       "grid_template_columns": null,
       "grid_template_rows": null,
       "height": null,
       "justify_content": null,
       "justify_items": null,
       "left": null,
       "margin": null,
       "max_height": null,
       "max_width": null,
       "min_height": null,
       "min_width": null,
       "object_fit": null,
       "object_position": null,
       "order": null,
       "overflow": null,
       "overflow_x": null,
       "overflow_y": null,
       "padding": null,
       "right": null,
       "top": null,
       "visibility": null,
       "width": null
      }
     },
     "e336477ff47c44a39b689986e28aabb3": {
      "model_module": "@jupyter-widgets/base",
      "model_module_version": "1.2.0",
      "model_name": "LayoutModel",
      "state": {
       "_model_module": "@jupyter-widgets/base",
       "_model_module_version": "1.2.0",
       "_model_name": "LayoutModel",
       "_view_count": null,
       "_view_module": "@jupyter-widgets/base",
       "_view_module_version": "1.2.0",
       "_view_name": "LayoutView",
       "align_content": null,
       "align_items": null,
       "align_self": null,
       "border": null,
       "bottom": null,
       "display": null,
       "flex": null,
       "flex_flow": null,
       "grid_area": null,
       "grid_auto_columns": null,
       "grid_auto_flow": null,
       "grid_auto_rows": null,
       "grid_column": null,
       "grid_gap": null,
       "grid_row": null,
       "grid_template_areas": null,
       "grid_template_columns": null,
       "grid_template_rows": null,
       "height": null,
       "justify_content": null,
       "justify_items": null,
       "left": null,
       "margin": null,
       "max_height": null,
       "max_width": null,
       "min_height": null,
       "min_width": null,
       "object_fit": null,
       "object_position": null,
       "order": null,
       "overflow": null,
       "overflow_x": null,
       "overflow_y": null,
       "padding": null,
       "right": null,
       "top": null,
       "visibility": null,
       "width": null
      }
     },
     "e815461817a1476ca1da3df6b0d43d7e": {
      "model_module": "@jupyter-widgets/controls",
      "model_module_version": "1.5.0",
      "model_name": "DescriptionStyleModel",
      "state": {
       "_model_module": "@jupyter-widgets/controls",
       "_model_module_version": "1.5.0",
       "_model_name": "DescriptionStyleModel",
       "_view_count": null,
       "_view_module": "@jupyter-widgets/base",
       "_view_module_version": "1.2.0",
       "_view_name": "StyleView",
       "description_width": ""
      }
     },
     "ebe805147074425fbc37d49daf4f0eeb": {
      "model_module": "@jupyter-widgets/base",
      "model_module_version": "1.2.0",
      "model_name": "LayoutModel",
      "state": {
       "_model_module": "@jupyter-widgets/base",
       "_model_module_version": "1.2.0",
       "_model_name": "LayoutModel",
       "_view_count": null,
       "_view_module": "@jupyter-widgets/base",
       "_view_module_version": "1.2.0",
       "_view_name": "LayoutView",
       "align_content": null,
       "align_items": null,
       "align_self": null,
       "border": null,
       "bottom": null,
       "display": null,
       "flex": null,
       "flex_flow": null,
       "grid_area": null,
       "grid_auto_columns": null,
       "grid_auto_flow": null,
       "grid_auto_rows": null,
       "grid_column": null,
       "grid_gap": null,
       "grid_row": null,
       "grid_template_areas": null,
       "grid_template_columns": null,
       "grid_template_rows": null,
       "height": null,
       "justify_content": null,
       "justify_items": null,
       "left": null,
       "margin": null,
       "max_height": null,
       "max_width": null,
       "min_height": null,
       "min_width": null,
       "object_fit": null,
       "object_position": null,
       "order": null,
       "overflow": null,
       "overflow_x": null,
       "overflow_y": null,
       "padding": null,
       "right": null,
       "top": null,
       "visibility": null,
       "width": null
      }
     },
     "ef2f25d538114c8f93289d89cdf9cab2": {
      "model_module": "@jupyter-widgets/controls",
      "model_module_version": "1.5.0",
      "model_name": "DescriptionStyleModel",
      "state": {
       "_model_module": "@jupyter-widgets/controls",
       "_model_module_version": "1.5.0",
       "_model_name": "DescriptionStyleModel",
       "_view_count": null,
       "_view_module": "@jupyter-widgets/base",
       "_view_module_version": "1.2.0",
       "_view_name": "StyleView",
       "description_width": ""
      }
     },
     "f03490b922eb41f0bbbeb05ba88c5d7c": {
      "model_module": "@jupyter-widgets/controls",
      "model_module_version": "1.5.0",
      "model_name": "HBoxModel",
      "state": {
       "_dom_classes": [],
       "_model_module": "@jupyter-widgets/controls",
       "_model_module_version": "1.5.0",
       "_model_name": "HBoxModel",
       "_view_count": null,
       "_view_module": "@jupyter-widgets/controls",
       "_view_module_version": "1.5.0",
       "_view_name": "HBoxView",
       "box_style": "",
       "children": [
        "IPY_MODEL_5ad6baef302f47409d7ca68242b7628a",
        "IPY_MODEL_79c8145fc95f42deb033619b202abccf",
        "IPY_MODEL_3cd93fcdc7054d22a55942516008e279"
       ],
       "layout": "IPY_MODEL_1088419484b84511b8b629bd63b06ab4"
      }
     },
     "f35aaa31ef6a45109ede4f60340321d4": {
      "model_module": "@jupyter-widgets/controls",
      "model_module_version": "1.5.0",
      "model_name": "FloatProgressModel",
      "state": {
       "_dom_classes": [],
       "_model_module": "@jupyter-widgets/controls",
       "_model_module_version": "1.5.0",
       "_model_name": "FloatProgressModel",
       "_view_count": null,
       "_view_module": "@jupyter-widgets/controls",
       "_view_module_version": "1.5.0",
       "_view_name": "ProgressView",
       "bar_style": "success",
       "description": "",
       "description_tooltip": null,
       "layout": "IPY_MODEL_92f7611ff3a149d0aadb62702c352ce3",
       "max": 18,
       "min": 0,
       "orientation": "horizontal",
       "style": "IPY_MODEL_02ae903c5ae24de1b3c860c3d652cb9d",
       "value": 18
      }
     },
     "f5ec668f873a437ab865664637ee3fb9": {
      "model_module": "@jupyter-widgets/controls",
      "model_module_version": "1.5.0",
      "model_name": "HBoxModel",
      "state": {
       "_dom_classes": [],
       "_model_module": "@jupyter-widgets/controls",
       "_model_module_version": "1.5.0",
       "_model_name": "HBoxModel",
       "_view_count": null,
       "_view_module": "@jupyter-widgets/controls",
       "_view_module_version": "1.5.0",
       "_view_name": "HBoxView",
       "box_style": "",
       "children": [
        "IPY_MODEL_c24079bc0e11410bb4726f7885e3b5ba",
        "IPY_MODEL_72d2592dc23e4b62af56329dc10de6d6",
        "IPY_MODEL_95f0440c971f4dc1bf5af15a1105664b"
       ],
       "layout": "IPY_MODEL_0724d6dba8a945a088ef6c40466ddd6d"
      }
     },
     "ff9fe24752bc4118ab479f3690bf08a6": {
      "model_module": "@jupyter-widgets/controls",
      "model_module_version": "1.5.0",
      "model_name": "HBoxModel",
      "state": {
       "_dom_classes": [],
       "_model_module": "@jupyter-widgets/controls",
       "_model_module_version": "1.5.0",
       "_model_name": "HBoxModel",
       "_view_count": null,
       "_view_module": "@jupyter-widgets/controls",
       "_view_module_version": "1.5.0",
       "_view_name": "HBoxView",
       "box_style": "",
       "children": [
        "IPY_MODEL_022bacb101664f4eae94dc709cf5f54a",
        "IPY_MODEL_171d0da506694088bbb6287b47ffe9d6",
        "IPY_MODEL_bd6334e62677497eb87f483de9b450c7"
       ],
       "layout": "IPY_MODEL_81a27cae1e0b46448f23b052f2f80b0a"
      }
     }
    },
    "version_major": 2,
    "version_minor": 0
   }
  }
 },
 "nbformat": 4,
 "nbformat_minor": 5
}
