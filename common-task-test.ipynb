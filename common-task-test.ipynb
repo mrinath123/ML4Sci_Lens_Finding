{
 "cells": [
  {
   "cell_type": "code",
   "execution_count": 1,
   "id": "043c4aae",
   "metadata": {
    "collapsed": true,
    "execution": {
     "iopub.execute_input": "2022-04-05T05:54:46.212257Z",
     "iopub.status.busy": "2022-04-05T05:54:46.210005Z",
     "iopub.status.idle": "2022-04-05T05:56:00.496473Z",
     "shell.execute_reply": "2022-04-05T05:56:00.497068Z",
     "shell.execute_reply.started": "2022-04-05T05:14:39.074813Z"
    },
    "jupyter": {
     "outputs_hidden": true
    },
    "papermill": {
     "duration": 74.37356,
     "end_time": "2022-04-05T05:56:00.497459",
     "exception": false,
     "start_time": "2022-04-05T05:54:46.123899",
     "status": "completed"
    },
    "tags": []
   },
   "outputs": [
    {
     "name": "stdout",
     "output_type": "stream",
     "text": [
      "Collecting package metadata (current_repodata.json): ...working... done\r\n",
      "Solving environment: ...working... done\r\n",
      "\r\n",
      "## Package Plan ##\r\n",
      "\r\n",
      "  environment location: /opt/conda\r\n",
      "\r\n",
      "  added / updated specs:\r\n",
      "    - gdown\r\n",
      "\r\n",
      "\r\n",
      "The following packages will be downloaded:\r\n",
      "\r\n",
      "    package                    |            build\r\n",
      "    ---------------------------|-----------------\r\n",
      "    beautifulsoup4-4.10.0      |     pyha770c72_0          77 KB  conda-forge\r\n",
      "    certifi-2021.10.8          |   py37h89c1867_2         145 KB  conda-forge\r\n",
      "    conda-4.12.0               |   py37h89c1867_0         1.0 MB  conda-forge\r\n",
      "    filelock-3.6.0             |     pyhd8ed1ab_0          12 KB  conda-forge\r\n",
      "    gdown-4.4.0                |     pyhd8ed1ab_0          16 KB  conda-forge\r\n",
      "    openssl-1.1.1n             |       h166bdaf_0         2.1 MB  conda-forge\r\n",
      "    soupsieve-2.3.1            |     pyhd8ed1ab_0          33 KB  conda-forge\r\n",
      "    ------------------------------------------------------------\r\n",
      "                                           Total:         3.4 MB\r\n",
      "\r\n",
      "The following NEW packages will be INSTALLED:\r\n",
      "\r\n",
      "  beautifulsoup4     conda-forge/noarch::beautifulsoup4-4.10.0-pyha770c72_0\r\n",
      "  filelock           conda-forge/noarch::filelock-3.6.0-pyhd8ed1ab_0\r\n",
      "  gdown              conda-forge/noarch::gdown-4.4.0-pyhd8ed1ab_0\r\n",
      "  soupsieve          conda-forge/noarch::soupsieve-2.3.1-pyhd8ed1ab_0\r\n",
      "\r\n",
      "The following packages will be UPDATED:\r\n",
      "\r\n",
      "  certifi                          2021.10.8-py37h89c1867_1 --> 2021.10.8-py37h89c1867_2\r\n",
      "  conda                               4.11.0-py37h89c1867_2 --> 4.12.0-py37h89c1867_0\r\n",
      "  openssl                                 1.1.1l-h7f98852_0 --> 1.1.1n-h166bdaf_0\r\n",
      "\r\n",
      "\r\n",
      "Preparing transaction: ...working... done\r\n",
      "Verifying transaction: ...working... done\r\n",
      "Executing transaction: ...working... done\r\n"
     ]
    }
   ],
   "source": [
    "!conda install -q -y gdown"
   ]
  },
  {
   "cell_type": "code",
   "execution_count": 2,
   "id": "033d48e9",
   "metadata": {
    "execution": {
     "iopub.execute_input": "2022-04-05T05:56:00.561581Z",
     "iopub.status.busy": "2022-04-05T05:56:00.560611Z",
     "iopub.status.idle": "2022-04-05T05:57:08.185543Z",
     "shell.execute_reply": "2022-04-05T05:57:08.184578Z",
     "shell.execute_reply.started": "2022-04-05T05:15:52.980768Z"
    },
    "papermill": {
     "duration": 67.658541,
     "end_time": "2022-04-05T05:57:08.185689",
     "exception": false,
     "start_time": "2022-04-05T05:56:00.527148",
     "status": "completed"
    },
    "tags": []
   },
   "outputs": [
    {
     "name": "stdout",
     "output_type": "stream",
     "text": [
      "Downloading...\r\n",
      "From: http://drive.google.com/uc?id=1B_UZtU4W65ZViTJsLeFfvK-xXCYUhw2A\r\n",
      "To: /kaggle/working/dataset.zip\r\n",
      "100%|███████████████████████████████████████| 1.13G/1.13G [00:04<00:00, 260MB/s]\r\n"
     ]
    }
   ],
   "source": [
    "!gdown http://drive.google.com/uc?id=1B_UZtU4W65ZViTJsLeFfvK-xXCYUhw2A\n",
    "!unzip -q dataset.zip"
   ]
  },
  {
   "cell_type": "code",
   "execution_count": 3,
   "id": "c699eb7b",
   "metadata": {
    "execution": {
     "iopub.execute_input": "2022-04-05T05:57:08.292929Z",
     "iopub.status.busy": "2022-04-05T05:57:08.291728Z",
     "iopub.status.idle": "2022-04-05T05:57:17.880450Z",
     "shell.execute_reply": "2022-04-05T05:57:17.879569Z",
     "shell.execute_reply.started": "2022-04-05T05:17:48.294840Z"
    },
    "papermill": {
     "duration": 9.641843,
     "end_time": "2022-04-05T05:57:17.880631",
     "exception": false,
     "start_time": "2022-04-05T05:57:08.238788",
     "status": "completed"
    },
    "tags": []
   },
   "outputs": [],
   "source": [
    "import random\n",
    "import numpy as np\n",
    "import pandas as pd\n",
    "import matplotlib.pyplot as plt\n",
    "import seaborn as sns\n",
    "import os\n",
    "from tqdm.notebook import tqdm\n",
    "from sklearn import model_selection\n",
    "from sklearn.model_selection import train_test_split\n",
    "from sklearn.metrics import f1_score\n",
    "from sklearn.metrics import accuracy_score\n",
    "import math\n",
    "import random\n",
    "import albumentations as A\n",
    "from albumentations.pytorch import ToTensorV2\n",
    "import torch\n",
    "import torch.nn as nn\n",
    "import torch.nn.functional as F\n",
    "from torch.utils.data import Dataset,DataLoader\n",
    "import warnings\n",
    "warnings.filterwarnings('ignore')\n",
    "from sklearn.metrics import roc_auc_score, roc_curve, auc\n",
    "from scipy import interp\n",
    "from itertools import cycle\n",
    "from sklearn import  model_selection\n",
    "from sklearn.preprocessing import label_binarize\n",
    "\n",
    "device = torch.device('cuda' if torch.cuda.is_available() else 'cpu')"
   ]
  },
  {
   "cell_type": "code",
   "execution_count": 4,
   "id": "f807a54b",
   "metadata": {
    "execution": {
     "iopub.execute_input": "2022-04-05T05:57:17.993736Z",
     "iopub.status.busy": "2022-04-05T05:57:17.992860Z",
     "iopub.status.idle": "2022-04-05T05:57:17.999523Z",
     "shell.execute_reply": "2022-04-05T05:57:17.998865Z"
    },
    "papermill": {
     "duration": 0.07314,
     "end_time": "2022-04-05T05:57:17.999662",
     "exception": false,
     "start_time": "2022-04-05T05:57:17.926522",
     "status": "completed"
    },
    "tags": []
   },
   "outputs": [],
   "source": [
    "def set_seed(seed):\n",
    "    random.seed(seed)\n",
    "    os.environ[\"PYTHONHASHSEED\"] = str(seed)\n",
    "    np.random.seed(seed)\n",
    "    torch.manual_seed(seed)\n",
    "    if torch.cuda.is_available():\n",
    "        torch.cuda.manual_seed_all(seed)\n",
    "        torch.backends.cudnn.deterministic = True\n",
    "        \n",
    "set_seed(42)"
   ]
  },
  {
   "cell_type": "markdown",
   "id": "169299d1",
   "metadata": {
    "papermill": {
     "duration": 0.04847,
     "end_time": "2022-04-05T05:57:19.841167",
     "exception": false,
     "start_time": "2022-04-05T05:57:19.792697",
     "status": "completed"
    },
    "tags": []
   },
   "source": [
    "# Hyperparameters (Kindly change the path of the model's weight according to where you have stored)"
   ]
  },
  {
   "cell_type": "code",
   "execution_count": 5,
   "id": "040b5747",
   "metadata": {
    "execution": {
     "iopub.execute_input": "2022-04-05T05:57:19.935791Z",
     "iopub.status.busy": "2022-04-05T05:57:19.934810Z",
     "iopub.status.idle": "2022-04-05T05:57:19.937090Z",
     "shell.execute_reply": "2022-04-05T05:57:19.937626Z"
    },
    "papermill": {
     "duration": 0.052626,
     "end_time": "2022-04-05T05:57:19.937774",
     "exception": false,
     "start_time": "2022-04-05T05:57:19.885148",
     "status": "completed"
    },
    "tags": []
   },
   "outputs": [],
   "source": [
    "image_size = 150\n",
    "#path to best model weights\n",
    "path = '../input/common-task/Val_acc 0.9688.pth'"
   ]
  },
  {
   "cell_type": "code",
   "execution_count": 6,
   "id": "b8674655",
   "metadata": {
    "execution": {
     "iopub.execute_input": "2022-04-05T05:57:20.032045Z",
     "iopub.status.busy": "2022-04-05T05:57:20.030968Z",
     "iopub.status.idle": "2022-04-05T05:57:20.038964Z",
     "shell.execute_reply": "2022-04-05T05:57:20.038472Z",
     "shell.execute_reply.started": "2022-04-05T05:17:19.411382Z"
    },
    "papermill": {
     "duration": 0.055996,
     "end_time": "2022-04-05T05:57:20.039133",
     "exception": false,
     "start_time": "2022-04-05T05:57:19.983137",
     "status": "completed"
    },
    "tags": []
   },
   "outputs": [],
   "source": [
    "def func(path,class_name):\n",
    "    if(class_name == 'no'):\n",
    "        ss = 1\n",
    "    elif(class_name == 'sphere'):\n",
    "        ss = 0\n",
    "    else:\n",
    "        ss = -1\n",
    "    xx = np.array(os.listdir(path))\n",
    "    xx = ['./dataset/train/' + f'{class_name}/'+ i for  i in xx]\n",
    "    xx = np.array(xx)\n",
    "    xx = np.expand_dims(xx,1)\n",
    "    yy = np.ones((len(xx),1)) - ss\n",
    "    gg = np.concatenate([xx,yy],axis = 1)\n",
    "    return gg"
   ]
  },
  {
   "cell_type": "code",
   "execution_count": 7,
   "id": "ed2fc81a",
   "metadata": {
    "execution": {
     "iopub.execute_input": "2022-04-05T05:57:20.209018Z",
     "iopub.status.busy": "2022-04-05T05:57:20.207957Z",
     "iopub.status.idle": "2022-04-05T05:57:20.210981Z",
     "shell.execute_reply": "2022-04-05T05:57:20.210027Z",
     "shell.execute_reply.started": "2022-04-05T05:17:19.426736Z"
    },
    "papermill": {
     "duration": 0.103664,
     "end_time": "2022-04-05T05:57:20.211219",
     "exception": false,
     "start_time": "2022-04-05T05:57:20.107555",
     "status": "completed"
    },
    "tags": []
   },
   "outputs": [],
   "source": [
    "train_path1 = './dataset/train/no'\n",
    "train_path2 = './dataset/train/sphere'\n",
    "train_path3 = './dataset/train/vort'"
   ]
  },
  {
   "cell_type": "code",
   "execution_count": 8,
   "id": "b0996acf",
   "metadata": {
    "execution": {
     "iopub.execute_input": "2022-04-05T05:57:20.391515Z",
     "iopub.status.busy": "2022-04-05T05:57:20.390502Z",
     "iopub.status.idle": "2022-04-05T05:57:20.499207Z",
     "shell.execute_reply": "2022-04-05T05:57:20.500412Z",
     "shell.execute_reply.started": "2022-04-05T05:17:19.437540Z"
    },
    "papermill": {
     "duration": 0.201029,
     "end_time": "2022-04-05T05:57:20.500627",
     "exception": false,
     "start_time": "2022-04-05T05:57:20.299598",
     "status": "completed"
    },
    "tags": []
   },
   "outputs": [],
   "source": [
    "d1 = func(train_path1 , 'no')\n",
    "d2 = func(train_path2 , 'sphere')\n",
    "d3 = func(train_path3 , 'vort')"
   ]
  },
  {
   "cell_type": "code",
   "execution_count": 9,
   "id": "909346d2",
   "metadata": {
    "execution": {
     "iopub.execute_input": "2022-04-05T05:57:20.663282Z",
     "iopub.status.busy": "2022-04-05T05:57:20.662081Z",
     "iopub.status.idle": "2022-04-05T05:57:20.677539Z",
     "shell.execute_reply": "2022-04-05T05:57:20.678508Z",
     "shell.execute_reply.started": "2022-04-05T05:17:19.520428Z"
    },
    "papermill": {
     "duration": 0.101907,
     "end_time": "2022-04-05T05:57:20.678692",
     "exception": false,
     "start_time": "2022-04-05T05:57:20.576785",
     "status": "completed"
    },
    "tags": []
   },
   "outputs": [],
   "source": [
    "t_data = np.concatenate([d1,d2,d3] , axis = 0)"
   ]
  },
  {
   "cell_type": "code",
   "execution_count": 10,
   "id": "a792e322",
   "metadata": {
    "execution": {
     "iopub.execute_input": "2022-04-05T05:57:20.796849Z",
     "iopub.status.busy": "2022-04-05T05:57:20.795763Z",
     "iopub.status.idle": "2022-04-05T05:57:20.806232Z",
     "shell.execute_reply": "2022-04-05T05:57:20.805650Z",
     "shell.execute_reply.started": "2022-04-05T05:17:19.534293Z"
    },
    "papermill": {
     "duration": 0.06318,
     "end_time": "2022-04-05T05:57:20.806373",
     "exception": false,
     "start_time": "2022-04-05T05:57:20.743193",
     "status": "completed"
    },
    "tags": []
   },
   "outputs": [],
   "source": [
    "X_train, X_test = train_test_split(t_data, test_size=0.1, random_state=42)"
   ]
  },
  {
   "cell_type": "code",
   "execution_count": 11,
   "id": "fde2fdc6",
   "metadata": {
    "execution": {
     "iopub.execute_input": "2022-04-05T05:57:20.907828Z",
     "iopub.status.busy": "2022-04-05T05:57:20.906985Z",
     "iopub.status.idle": "2022-04-05T05:57:20.911209Z",
     "shell.execute_reply": "2022-04-05T05:57:20.911769Z",
     "shell.execute_reply.started": "2022-04-05T05:21:11.462607Z"
    },
    "papermill": {
     "duration": 0.060573,
     "end_time": "2022-04-05T05:57:20.911928",
     "exception": false,
     "start_time": "2022-04-05T05:57:20.851355",
     "status": "completed"
    },
    "tags": []
   },
   "outputs": [
    {
     "data": {
      "text/plain": [
       "(3000, 2)"
      ]
     },
     "execution_count": 11,
     "metadata": {},
     "output_type": "execute_result"
    }
   ],
   "source": [
    "#make sure the sahpe is (no. of samples x 2)\n",
    "X_test.shape"
   ]
  },
  {
   "cell_type": "code",
   "execution_count": 12,
   "id": "31df6531",
   "metadata": {
    "execution": {
     "iopub.execute_input": "2022-04-05T05:57:21.026173Z",
     "iopub.status.busy": "2022-04-05T05:57:21.025037Z",
     "iopub.status.idle": "2022-04-05T05:57:21.028181Z",
     "shell.execute_reply": "2022-04-05T05:57:21.027670Z",
     "shell.execute_reply.started": "2022-04-05T05:17:19.555530Z"
    },
    "papermill": {
     "duration": 0.071205,
     "end_time": "2022-04-05T05:57:21.028307",
     "exception": false,
     "start_time": "2022-04-05T05:57:20.957102",
     "status": "completed"
    },
    "tags": []
   },
   "outputs": [],
   "source": [
    "class Dense_layer(nn.Module):\n",
    "    def __init__(self,in_chans):\n",
    "        super().__init__()\n",
    "        self.net = nn.Sequential(\n",
    "            nn.BatchNorm2d(in_chans),\n",
    "            nn.PReLU(),\n",
    "            nn.Conv2d(in_chans, in_chans, kernel_size=1, padding=1, bias=False),\n",
    "            nn.BatchNorm2d(in_chans),\n",
    "            nn.PReLU(),\n",
    "            nn.Conv2d(in_chans, in_chans*2, kernel_size=3, bias=False)\n",
    "        )\n",
    "    def forward(self,x):\n",
    "        return self.net(x)\n",
    "class Dense_block(nn.Module):\n",
    "    def __init__(self,in_chans):\n",
    "        super().__init__()\n",
    "        self.d1 = Dense_layer(in_chans)\n",
    "        self.d2 = Dense_layer(in_chans+in_chans*2)\n",
    "    def forward(self,x):\n",
    "        op1 = self.d1(x)\n",
    "        op1 = torch.cat([op1,x],dim =1)\n",
    "        op2 = self.d2(op1)\n",
    "        return op2\n",
    "class TransitionLayer(nn.Module):\n",
    "\n",
    "    def __init__(self, c_in, c_out):\n",
    "        super().__init__()\n",
    "        self.transition = nn.Sequential(\n",
    "            nn.BatchNorm2d(c_in),\n",
    "            nn.PReLU(),\n",
    "            nn.Conv2d(c_in, c_out, kernel_size=1,stride=1, bias=False),\n",
    "            nn.AvgPool2d(kernel_size=2, stride=2) # Average the output for each 2x2 pixel group\n",
    "        )\n",
    "\n",
    "    def forward(self, x):\n",
    "        return self.transition(x)\n",
    "class Channel_A_Block(nn.Module):\n",
    "    def __init__(self,in_chans):\n",
    "        super().__init__()\n",
    "        self.n = in_chans\n",
    "        self.maxpool = nn.AdaptiveMaxPool2d((1))\n",
    "        self.avgpool = nn.AdaptiveAvgPool2d((1))\n",
    "        self.MLP = nn.Sequential(\n",
    "            nn.Linear(self.n ,64 ,bias=False),\n",
    "            nn.PReLU(),\n",
    "            nn.Linear( 64, self.n,bias=False)\n",
    "        )\n",
    "    def forward(self,x):\n",
    "        x_m = self.maxpool(x)\n",
    "        x_m = x_m.view(x_m.shape[0],-1)\n",
    "        x_a = self.avgpool(x)\n",
    "        x_a = x_a.view(x_a.shape[0],-1)\n",
    "\n",
    "        x_m = self.MLP(x_m)\n",
    "        x_a = self.MLP(x_a)\n",
    "\n",
    "        out = x_m + x_a\n",
    "        out = out.view(out.shape[0],self.n,1,1)\n",
    "        out = F.sigmoid(out)\n",
    "\n",
    "        return out\n",
    "class Spatial_A_Block(nn.Module):\n",
    "    def __init__(self):\n",
    "        super().__init__()\n",
    "        self.maxp = nn.AdaptiveMaxPool3d((1,None,None))\n",
    "        self.avgp = nn.AdaptiveMaxPool3d((1,None,None))\n",
    "        self.conv = nn.Conv2d(2 , 1 , 7, padding=7//2, bias=False)\n",
    "     \n",
    "    def forward(self,x):\n",
    "        x_m = self.maxp(x)\n",
    "        x_a = self.avgp(x)\n",
    "        op = torch.cat([x_m , x_a] , dim =1)\n",
    "        op = F.sigmoid(self.conv(op))\n",
    "        return op\n",
    "class A_Block(nn.Module):\n",
    "    def __init__(self,in_chans):\n",
    "        super().__init__()\n",
    "        self.c_a = Channel_A_Block(in_chans)\n",
    "        self.s_a = Spatial_A_Block()\n",
    "\n",
    "    def forward(self,x):\n",
    "        Fc = self.c_a(x)\n",
    "        Fc = Fc*x\n",
    "        Fm = self.s_a(Fc)\n",
    "        F = Fm*Fc\n",
    "        return F"
   ]
  },
  {
   "cell_type": "code",
   "execution_count": 13,
   "id": "21722354",
   "metadata": {
    "execution": {
     "iopub.execute_input": "2022-04-05T05:57:21.129707Z",
     "iopub.status.busy": "2022-04-05T05:57:21.128737Z",
     "iopub.status.idle": "2022-04-05T05:57:21.135098Z",
     "shell.execute_reply": "2022-04-05T05:57:21.135546Z",
     "shell.execute_reply.started": "2022-04-05T05:17:19.582717Z"
    },
    "papermill": {
     "duration": 0.06089,
     "end_time": "2022-04-05T05:57:21.135708",
     "exception": false,
     "start_time": "2022-04-05T05:57:21.074818",
     "status": "completed"
    },
    "tags": []
   },
   "outputs": [],
   "source": [
    "class Model(nn.Module):\n",
    "    def __init__(self):\n",
    "        super().__init__()\n",
    "        self.conv1 =  nn.Conv2d(1,4, kernel_size=3)\n",
    "        \n",
    "        self.dense_block1 = Dense_block(4)\n",
    "        self.a_b1 = A_Block(24) #inchans = 2*(prev_chans + 2*prev_chans) hence (2*(4 + 2*4)) = 24)\n",
    "        self.tras1 = TransitionLayer(24 , 32)\n",
    "        \n",
    "        self.dense_block2 = Dense_block(32)\n",
    "        self.a_b2 = A_Block(192) # (2*(32 + 2*32)) = 192\n",
    "        self.tras2 = TransitionLayer(192 , 360)\n",
    "\n",
    "\n",
    "        self.pool = nn.AdaptiveAvgPool2d((1))\n",
    "        self.neck = nn.Sequential(\n",
    "            nn.Linear(360,360,bias =False),\n",
    "            nn.ReLU(),\n",
    "            nn.BatchNorm1d(360),\n",
    "            nn.Linear(360 , 64,bias =False),\n",
    "            nn.BatchNorm1d(64),\n",
    "            nn.Linear(64,3)\n",
    "        )\n",
    "        \n",
    "    def forward(self,x):\n",
    "        x = self.conv1(x)\n",
    "        \n",
    "        x = self.dense_block1(x)\n",
    "        x = self.a_b1(x)\n",
    "        x = self.tras1(x)\n",
    "        \n",
    "        x = self.dense_block2(x)\n",
    "        x = self.a_b2(x)\n",
    "        x = self.tras2(x)\n",
    "    \n",
    "        \n",
    "        x = self.pool(x)\n",
    "        x = x.view(x.shape[0],-1)\n",
    "        x = self.neck(x)\n",
    "        return x"
   ]
  },
  {
   "cell_type": "code",
   "execution_count": 14,
   "id": "832f4ec7",
   "metadata": {
    "execution": {
     "iopub.execute_input": "2022-04-05T05:57:21.234101Z",
     "iopub.status.busy": "2022-04-05T05:57:21.232933Z",
     "iopub.status.idle": "2022-04-05T05:57:21.235410Z",
     "shell.execute_reply": "2022-04-05T05:57:21.235935Z",
     "shell.execute_reply.started": "2022-04-05T05:17:19.598977Z"
    },
    "papermill": {
     "duration": 0.054823,
     "end_time": "2022-04-05T05:57:21.236140",
     "exception": false,
     "start_time": "2022-04-05T05:57:21.181317",
     "status": "completed"
    },
    "tags": []
   },
   "outputs": [],
   "source": [
    "image_size = 150\n",
    "test_aug = A.Compose(\n",
    "        [  \n",
    "        A.Resize(image_size,image_size,p=1.0),    \n",
    "        ToTensorV2()\n",
    "        ]\n",
    "        )"
   ]
  },
  {
   "cell_type": "code",
   "execution_count": 15,
   "id": "07c74561",
   "metadata": {
    "execution": {
     "iopub.execute_input": "2022-04-05T05:57:21.334657Z",
     "iopub.status.busy": "2022-04-05T05:57:21.333844Z",
     "iopub.status.idle": "2022-04-05T05:57:21.337441Z",
     "shell.execute_reply": "2022-04-05T05:57:21.337952Z",
     "shell.execute_reply.started": "2022-04-05T05:17:19.610462Z"
    },
    "papermill": {
     "duration": 0.056678,
     "end_time": "2022-04-05T05:57:21.338201",
     "exception": false,
     "start_time": "2022-04-05T05:57:21.281523",
     "status": "completed"
    },
    "tags": []
   },
   "outputs": [],
   "source": [
    "class Len(Dataset):\n",
    "    def __init__(self , data , augs):\n",
    "        self.data = data\n",
    "        self.augs = augs\n",
    "        \n",
    "    def __len__(self):\n",
    "        return(len(self.data))\n",
    "    \n",
    "    def __getitem__(self , idx):\n",
    "        \n",
    "        img_src = self.data[idx][0]\n",
    "        \n",
    "        image = np.load(img_src)\n",
    "        image = image - 0.5\n",
    "        image = np.squeeze(image, axis = 0)\n",
    "        transformed = self.augs(image=image)       \n",
    "        image = transformed['image']\n",
    "        image = torch.tensor(image,dtype = torch.float32) \n",
    "\n",
    "        return image"
   ]
  },
  {
   "cell_type": "code",
   "execution_count": 16,
   "id": "64ec46ea",
   "metadata": {
    "execution": {
     "iopub.execute_input": "2022-04-05T05:57:21.433755Z",
     "iopub.status.busy": "2022-04-05T05:57:21.432359Z",
     "iopub.status.idle": "2022-04-05T05:57:21.438921Z",
     "shell.execute_reply": "2022-04-05T05:57:21.438360Z",
     "shell.execute_reply.started": "2022-04-05T05:17:19.625287Z"
    },
    "papermill": {
     "duration": 0.05615,
     "end_time": "2022-04-05T05:57:21.439117",
     "exception": false,
     "start_time": "2022-04-05T05:57:21.382967",
     "status": "completed"
    },
    "tags": []
   },
   "outputs": [],
   "source": [
    "test_data= Len(X_test , augs = test_aug)\n",
    "test_loader = DataLoader(test_data,\n",
    "                             shuffle=False,\n",
    "                        batch_size=64)"
   ]
  },
  {
   "cell_type": "code",
   "execution_count": 17,
   "id": "67d4954b",
   "metadata": {
    "execution": {
     "iopub.execute_input": "2022-04-05T05:57:21.536983Z",
     "iopub.status.busy": "2022-04-05T05:57:21.536267Z",
     "iopub.status.idle": "2022-04-05T05:57:21.539952Z",
     "shell.execute_reply": "2022-04-05T05:57:21.539425Z",
     "shell.execute_reply.started": "2022-04-05T05:17:19.637757Z"
    },
    "papermill": {
     "duration": 0.056266,
     "end_time": "2022-04-05T05:57:21.540126",
     "exception": false,
     "start_time": "2022-04-05T05:57:21.483860",
     "status": "completed"
    },
    "tags": []
   },
   "outputs": [],
   "source": [
    "def inference_func(test_loader):\n",
    "    model = Model()\n",
    "    model = model.to(device)\n",
    "    model.load_state_dict(torch.load(path))\n",
    "    model.eval()\n",
    "    bar = tqdm(test_loader)\n",
    "    \n",
    "    PREDS = []\n",
    "    \n",
    "    with torch.no_grad():\n",
    "        for batch_idx, images in enumerate(bar):\n",
    "            x = images.to(device)\n",
    "            logits = model(x)\n",
    "            PREDS += [torch.softmax(logits, 1).detach().cpu()]\n",
    "        PREDS = torch.cat(PREDS).cpu().numpy()\n",
    "    \n",
    "    return PREDS"
   ]
  },
  {
   "cell_type": "code",
   "execution_count": 18,
   "id": "bccd38cb",
   "metadata": {
    "execution": {
     "iopub.execute_input": "2022-04-05T05:57:21.639388Z",
     "iopub.status.busy": "2022-04-05T05:57:21.638705Z",
     "iopub.status.idle": "2022-04-05T05:57:43.065733Z",
     "shell.execute_reply": "2022-04-05T05:57:43.066417Z",
     "shell.execute_reply.started": "2022-04-05T05:17:19.651042Z"
    },
    "papermill": {
     "duration": 21.480777,
     "end_time": "2022-04-05T05:57:43.066621",
     "exception": false,
     "start_time": "2022-04-05T05:57:21.585844",
     "status": "completed"
    },
    "tags": []
   },
   "outputs": [
    {
     "data": {
      "application/vnd.jupyter.widget-view+json": {
       "model_id": "c753041ef1e74232bab987f64c03e1cb",
       "version_major": 2,
       "version_minor": 0
      },
      "text/plain": [
       "  0%|          | 0/47 [00:00<?, ?it/s]"
      ]
     },
     "metadata": {},
     "output_type": "display_data"
    }
   ],
   "source": [
    "y_score = inference_func(test_loader)"
   ]
  },
  {
   "cell_type": "code",
   "execution_count": 19,
   "id": "98f06dc6",
   "metadata": {
    "execution": {
     "iopub.execute_input": "2022-04-05T05:57:43.169313Z",
     "iopub.status.busy": "2022-04-05T05:57:43.168461Z",
     "iopub.status.idle": "2022-04-05T05:57:43.175423Z",
     "shell.execute_reply": "2022-04-05T05:57:43.174552Z",
     "shell.execute_reply.started": "2022-04-05T05:17:53.381863Z"
    },
    "papermill": {
     "duration": 0.061626,
     "end_time": "2022-04-05T05:57:43.175566",
     "exception": false,
     "start_time": "2022-04-05T05:57:43.113940",
     "status": "completed"
    },
    "tags": []
   },
   "outputs": [],
   "source": [
    "y_test = [float(ww) for ww in X_test[: , -1]]\n",
    "y_test=np.asarray(y_test).reshape(-1)\n",
    "y_test=label_binarize(y_test, classes=[0, 1, 2])"
   ]
  },
  {
   "cell_type": "markdown",
   "id": "d7c7e563",
   "metadata": {
    "papermill": {
     "duration": 0.046515,
     "end_time": "2022-04-05T05:57:43.267693",
     "exception": false,
     "start_time": "2022-04-05T05:57:43.221178",
     "status": "completed"
    },
    "tags": []
   },
   "source": [
    "# Results on test data"
   ]
  },
  {
   "cell_type": "code",
   "execution_count": 20,
   "id": "0913d442",
   "metadata": {
    "execution": {
     "iopub.execute_input": "2022-04-05T05:57:43.379193Z",
     "iopub.status.busy": "2022-04-05T05:57:43.378506Z",
     "iopub.status.idle": "2022-04-05T05:57:43.679909Z",
     "shell.execute_reply": "2022-04-05T05:57:43.680505Z",
     "shell.execute_reply.started": "2022-04-05T05:17:55.721070Z"
    },
    "papermill": {
     "duration": 0.365777,
     "end_time": "2022-04-05T05:57:43.680689",
     "exception": false,
     "start_time": "2022-04-05T05:57:43.314912",
     "status": "completed"
    },
    "tags": []
   },
   "outputs": [
    {
     "data": {
      "image/png": "[encoded data removed]",
      "text/plain": [
       "<Figure size 504x360 with 1 Axes>"
      ]
     },
     "metadata": {
      "needs_background": "light"
     },
     "output_type": "display_data"
    }
   ],
   "source": [
    "#y_score -> predicted by model\n",
    "#y_test -> real labels\n",
    "\n",
    "#plotting code taken from https://github.com/ML4SCI/ML4SCIHackathon/blob/main/GravitationalLensingChallenge/StrongLensingChallenge-Classification.ipynb\n",
    "\n",
    "n_classes = y_test.shape[1]\n",
    "fpr = dict()\n",
    "tpr = dict()\n",
    "roc_auc = dict()\n",
    "for i in range(n_classes):\n",
    "    fpr[i], tpr[i], _ = roc_curve(y_test[:, i], y_score[:, i])\n",
    "    roc_auc[i] = auc(fpr[i], tpr[i])\n",
    "\n",
    "fpr[\"micro\"], tpr[\"micro\"], _ = roc_curve(y_test.ravel(), y_score.ravel())\n",
    "roc_auc[\"micro\"] = auc(fpr[\"micro\"], tpr[\"micro\"])\n",
    "\n",
    "all_fpr = np.unique(np.concatenate([fpr[i] for i in range(n_classes)]))\n",
    "\n",
    "mean_tpr = np.zeros_like(all_fpr)\n",
    "for i in range(n_classes):\n",
    "    mean_tpr += interp(all_fpr, fpr[i], tpr[i])\n",
    "\n",
    "mean_tpr /= n_classes\n",
    "\n",
    "fpr[\"macro\"] = all_fpr\n",
    "tpr[\"macro\"] = mean_tpr\n",
    "roc_auc[\"macro\"] = auc(fpr[\"macro\"], tpr[\"macro\"])\n",
    "\n",
    "plt.rcParams['figure.figsize'] = [7, 5]\n",
    "lw = 2\n",
    "plt.figure()\n",
    "plt.plot(fpr[\"micro\"], tpr[\"micro\"],\n",
    "         label='micro-average (area = {})'\n",
    "               ''.format(round(roc_auc[\"micro\"],5)),\n",
    "         color='deeppink', linestyle=':', linewidth=4)\n",
    "\n",
    "plt.plot(fpr[\"macro\"], tpr[\"macro\"],\n",
    "         label='macro-average (area = {})'\n",
    "               ''.format(round(roc_auc[\"macro\"],5)),\n",
    "         color='navy', linestyle=':', linewidth=4)\n",
    "\n",
    "labels = ['no sub', 'spherical', 'vortex']\n",
    "colors = cycle(['aqua', 'darkorange', 'cornflowerblue'])\n",
    "for i, color in zip(range(n_classes), colors):\n",
    "    plt.plot(fpr[i], tpr[i], color=color, lw=lw,\n",
    "             label='{} (area = {})'\n",
    "             ''.format(labels[i], round(roc_auc[i],5)))\n",
    "\n",
    "# Plot the ROC \n",
    "plt.plot([0, 1], [0, 1], 'k--', lw=lw)\n",
    "plt.xlim([0.0, 1.0])\n",
    "plt.ylim([0.0, 1.05])\n",
    "plt.xlabel('False Positive Rate')\n",
    "plt.ylabel('True Positive Rate')\n",
    "plt.title('ROC Curve')\n",
    "plt.legend(loc=\"lower right\", prop={\"size\":10})\n",
    "plt.show()"
   ]
  },
  {
   "cell_type": "code",
   "execution_count": 21,
   "id": "21f1e0eb",
   "metadata": {
    "execution": {
     "iopub.execute_input": "2022-04-05T05:57:43.790907Z",
     "iopub.status.busy": "2022-04-05T05:57:43.787723Z",
     "iopub.status.idle": "2022-04-05T05:57:45.766498Z",
     "shell.execute_reply": "2022-04-05T05:57:45.765398Z"
    },
    "papermill": {
     "duration": 2.03709,
     "end_time": "2022-04-05T05:57:45.766646",
     "exception": false,
     "start_time": "2022-04-05T05:57:43.729556",
     "status": "completed"
    },
    "tags": []
   },
   "outputs": [],
   "source": [
    "# deleting data after use\n",
    "import shutil\n",
    "shutil.rmtree(\"./dataset/\")"
   ]
  }
 ],
 "metadata": {
  "kernelspec": {
   "display_name": "Python 3",
   "language": "python",
   "name": "python3"
  },
  "language_info": {
   "codemirror_mode": {
    "name": "ipython",
    "version": 3
   },
   "file_extension": ".py",
   "mimetype": "text/x-python",
   "name": "python",
   "nbconvert_exporter": "python",
   "pygments_lexer": "ipython3",
   "version": "3.7.12"
  },
  "papermill": {
   "default_parameters": {},
   "duration": 192.810261,
   "end_time": "2022-04-05T05:57:49.100928",
   "environment_variables": {},
   "exception": null,
   "input_path": "__notebook__.ipynb",
   "output_path": "__notebook__.ipynb",
   "parameters": {},
   "start_time": "2022-04-05T05:54:36.290667",
   "version": "2.3.3"
  },
  "widgets": {
   "application/vnd.jupyter.widget-state+json": {
    "state": {
     "21c12a9613a64c7fb691d070252737c5": {
      "model_module": "@jupyter-widgets/base",
      "model_module_version": "1.2.0",
      "model_name": "LayoutModel",
      "state": {
       "_model_module": "@jupyter-widgets/base",
       "_model_module_version": "1.2.0",
       "_model_name": "LayoutModel",
       "_view_count": null,
       "_view_module": "@jupyter-widgets/base",
       "_view_module_version": "1.2.0",
       "_view_name": "LayoutView",
       "align_content": null,
       "align_items": null,
       "align_self": null,
       "border": null,
       "bottom": null,
       "display": null,
       "flex": null,
       "flex_flow": null,
       "grid_area": null,
       "grid_auto_columns": null,
       "grid_auto_flow": null,
       "grid_auto_rows": null,
       "grid_column": null,
       "grid_gap": null,
       "grid_row": null,
       "grid_template_areas": null,
       "grid_template_columns": null,
       "grid_template_rows": null,
       "height": null,
       "justify_content": null,
       "justify_items": null,
       "left": null,
       "margin": null,
       "max_height": null,
       "max_width": null,
       "min_height": null,
       "min_width": null,
       "object_fit": null,
       "object_position": null,
       "order": null,
       "overflow": null,
       "overflow_x": null,
       "overflow_y": null,
       "padding": null,
       "right": null,
       "top": null,
       "visibility": null,
       "width": null
      }
     },
     "4d1652cc90ef44588328462b890b3daa": {
      "model_module": "@jupyter-widgets/base",
      "model_module_version": "1.2.0",
      "model_name": "LayoutModel",
      "state": {
       "_model_module": "@jupyter-widgets/base",
       "_model_module_version": "1.2.0",
       "_model_name": "LayoutModel",
       "_view_count": null,
       "_view_module": "@jupyter-widgets/base",
       "_view_module_version": "1.2.0",
       "_view_name": "LayoutView",
       "align_content": null,
       "align_items": null,
       "align_self": null,
       "border": null,
       "bottom": null,
       "display": null,
       "flex": null,
       "flex_flow": null,
       "grid_area": null,
       "grid_auto_columns": null,
       "grid_auto_flow": null,
       "grid_auto_rows": null,
       "grid_column": null,
       "grid_gap": null,
       "grid_row": null,
       "grid_template_areas": null,
       "grid_template_columns": null,
       "grid_template_rows": null,
       "height": null,
       "justify_content": null,
       "justify_items": null,
       "left": null,
       "margin": null,
       "max_height": null,
       "max_width": null,
       "min_height": null,
       "min_width": null,
       "object_fit": null,
       "object_position": null,
       "order": null,
       "overflow": null,
       "overflow_x": null,
       "overflow_y": null,
       "padding": null,
       "right": null,
       "top": null,
       "visibility": null,
       "width": null
      }
     },
     "51a1224d6a5349018d2beb800bedfe74": {
      "model_module": "@jupyter-widgets/controls",
      "model_module_version": "1.5.0",
      "model_name": "ProgressStyleModel",
      "state": {
       "_model_module": "@jupyter-widgets/controls",
       "_model_module_version": "1.5.0",
       "_model_name": "ProgressStyleModel",
       "_view_count": null,
       "_view_module": "@jupyter-widgets/base",
       "_view_module_version": "1.2.0",
       "_view_name": "StyleView",
       "bar_color": null,
       "description_width": ""
      }
     },
     "861ddb40c6e14fbbb987b92130063127": {
      "model_module": "@jupyter-widgets/controls",
      "model_module_version": "1.5.0",
      "model_name": "HTMLModel",
      "state": {
       "_dom_classes": [],
       "_model_module": "@jupyter-widgets/controls",
       "_model_module_version": "1.5.0",
       "_model_name": "HTMLModel",
       "_view_count": null,
       "_view_module": "@jupyter-widgets/controls",
       "_view_module_version": "1.5.0",
       "_view_name": "HTMLView",
       "description": "",
       "description_tooltip": null,
       "layout": "IPY_MODEL_e47d0d77e4434820b5afd3f85c2a54b1",
       "placeholder": "​",
       "style": "IPY_MODEL_a1769223183545a699248b4d0a43201c",
       "value": "100%"
      }
     },
     "8e259e3ea5ea4ca5bf9c124b5b1bcb76": {
      "model_module": "@jupyter-widgets/controls",
      "model_module_version": "1.5.0",
      "model_name": "FloatProgressModel",
      "state": {
       "_dom_classes": [],
       "_model_module": "@jupyter-widgets/controls",
       "_model_module_version": "1.5.0",
       "_model_name": "FloatProgressModel",
       "_view_count": null,
       "_view_module": "@jupyter-widgets/controls",
       "_view_module_version": "1.5.0",
       "_view_name": "ProgressView",
       "bar_style": "success",
       "description": "",
       "description_tooltip": null,
       "layout": "IPY_MODEL_4d1652cc90ef44588328462b890b3daa",
       "max": 47,
       "min": 0,
       "orientation": "horizontal",
       "style": "IPY_MODEL_51a1224d6a5349018d2beb800bedfe74",
       "value": 47
      }
     },
     "8e34cd69ee2f4c3fa22ca1239308e780": {
      "model_module": "@jupyter-widgets/base",
      "model_module_version": "1.2.0",
      "model_name": "LayoutModel",
      "state": {
       "_model_module": "@jupyter-widgets/base",
       "_model_module_version": "1.2.0",
       "_model_name": "LayoutModel",
       "_view_count": null,
       "_view_module": "@jupyter-widgets/base",
       "_view_module_version": "1.2.0",
       "_view_name": "LayoutView",
       "align_content": null,
       "align_items": null,
       "align_self": null,
       "border": null,
       "bottom": null,
       "display": null,
       "flex": null,
       "flex_flow": null,
       "grid_area": null,
       "grid_auto_columns": null,
       "grid_auto_flow": null,
       "grid_auto_rows": null,
       "grid_column": null,
       "grid_gap": null,
       "grid_row": null,
       "grid_template_areas": null,
       "grid_template_columns": null,
       "grid_template_rows": null,
       "height": null,
       "justify_content": null,
       "justify_items": null,
       "left": null,
       "margin": null,
       "max_height": null,
       "max_width": null,
       "min_height": null,
       "min_width": null,
       "object_fit": null,
       "object_position": null,
       "order": null,
       "overflow": null,
       "overflow_x": null,
       "overflow_y": null,
       "padding": null,
       "right": null,
       "top": null,
       "visibility": null,
       "width": null
      }
     },
     "a1769223183545a699248b4d0a43201c": {
      "model_module": "@jupyter-widgets/controls",
      "model_module_version": "1.5.0",
      "model_name": "DescriptionStyleModel",
      "state": {
       "_model_module": "@jupyter-widgets/controls",
       "_model_module_version": "1.5.0",
       "_model_name": "DescriptionStyleModel",
       "_view_count": null,
       "_view_module": "@jupyter-widgets/base",
       "_view_module_version": "1.2.0",
       "_view_name": "StyleView",
       "description_width": ""
      }
     },
     "ba49b6209f114b64b567e50b631e52f0": {
      "model_module": "@jupyter-widgets/controls",
      "model_module_version": "1.5.0",
      "model_name": "HTMLModel",
      "state": {
       "_dom_classes": [],
       "_model_module": "@jupyter-widgets/controls",
       "_model_module_version": "1.5.0",
       "_model_name": "HTMLModel",
       "_view_count": null,
       "_view_module": "@jupyter-widgets/controls",
       "_view_module_version": "1.5.0",
       "_view_name": "HTMLView",
       "description": "",
       "description_tooltip": null,
       "layout": "IPY_MODEL_21c12a9613a64c7fb691d070252737c5",
       "placeholder": "​",
       "style": "IPY_MODEL_c067f513c47944229422b86418591b81",
       "value": " 47/47 [00:15&lt;00:00,  4.84it/s]"
      }
     },
     "c067f513c47944229422b86418591b81": {
      "model_module": "@jupyter-widgets/controls",
      "model_module_version": "1.5.0",
      "model_name": "DescriptionStyleModel",
      "state": {
       "_model_module": "@jupyter-widgets/controls",
       "_model_module_version": "1.5.0",
       "_model_name": "DescriptionStyleModel",
       "_view_count": null,
       "_view_module": "@jupyter-widgets/base",
       "_view_module_version": "1.2.0",
       "_view_name": "StyleView",
       "description_width": ""
      }
     },
     "c753041ef1e74232bab987f64c03e1cb": {
      "model_module": "@jupyter-widgets/controls",
      "model_module_version": "1.5.0",
      "model_name": "HBoxModel",
      "state": {
       "_dom_classes": [],
       "_model_module": "@jupyter-widgets/controls",
       "_model_module_version": "1.5.0",
       "_model_name": "HBoxModel",
       "_view_count": null,
       "_view_module": "@jupyter-widgets/controls",
       "_view_module_version": "1.5.0",
       "_view_name": "HBoxView",
       "box_style": "",
       "children": [
        "IPY_MODEL_861ddb40c6e14fbbb987b92130063127",
        "IPY_MODEL_8e259e3ea5ea4ca5bf9c124b5b1bcb76",
        "IPY_MODEL_ba49b6209f114b64b567e50b631e52f0"
       ],
       "layout": "IPY_MODEL_8e34cd69ee2f4c3fa22ca1239308e780"
      }
     },
     "e47d0d77e4434820b5afd3f85c2a54b1": {
      "model_module": "@jupyter-widgets/base",
      "model_module_version": "1.2.0",
      "model_name": "LayoutModel",
      "state": {
       "_model_module": "@jupyter-widgets/base",
       "_model_module_version": "1.2.0",
       "_model_name": "LayoutModel",
       "_view_count": null,
       "_view_module": "@jupyter-widgets/base",
       "_view_module_version": "1.2.0",
       "_view_name": "LayoutView",
       "align_content": null,
       "align_items": null,
       "align_self": null,
       "border": null,
       "bottom": null,
       "display": null,
       "flex": null,
       "flex_flow": null,
       "grid_area": null,
       "grid_auto_columns": null,
       "grid_auto_flow": null,
       "grid_auto_rows": null,
       "grid_column": null,
       "grid_gap": null,
       "grid_row": null,
       "grid_template_areas": null,
       "grid_template_columns": null,
       "grid_template_rows": null,
       "height": null,
       "justify_content": null,
       "justify_items": null,
       "left": null,
       "margin": null,
       "max_height": null,
       "max_width": null,
       "min_height": null,
       "min_width": null,
       "object_fit": null,
       "object_position": null,
       "order": null,
       "overflow": null,
       "overflow_x": null,
       "overflow_y": null,
       "padding": null,
       "right": null,
       "top": null,
       "visibility": null,
       "width": null
      }
     }
    },
    "version_major": 2,
    "version_minor": 0
   }
  }
 },
 "nbformat": 4,
 "nbformat_minor": 5
}
